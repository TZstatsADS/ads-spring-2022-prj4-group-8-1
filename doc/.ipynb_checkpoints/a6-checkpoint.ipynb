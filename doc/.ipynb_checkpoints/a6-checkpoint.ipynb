{
 "cells": [
  {
   "cell_type": "code",
   "execution_count": 85,
   "id": "4712a167",
   "metadata": {},
   "outputs": [],
   "source": [
    "# Import required packages\n",
    "import numpy as np\n",
    "import pandas as pd\n",
    "\n",
    "import time \n",
    "import cv2\n",
    "import matplotlib.pyplot as plt\n",
    "from sklearn.metrics import classification_report\n",
    "from sklearn.linear_model import LogisticRegression\n",
    "\n",
    "import tensorflow as tf\n",
    "from tensorflow.keras.callbacks import ModelCheckpoint, ReduceLROnPlateau\n",
    "from tensorflow.keras.layers import Input, Dense, BatchNormalization, Flatten, MaxPooling2D, Activation, GlobalMaxPool2D, GlobalAvgPool2D, Concatenate, Multiply, Dropout, Subtract\n",
    "from tensorflow.keras.models import Model, Sequential\n",
    "from tensorflow.keras.layers import Conv2D, MaxPooling2D\n",
    "from tensorflow.keras.layers import Activation, Dropout, Flatten, Dense\n",
    "from tensorflow.keras.preprocessing.image import ImageDataGenerator, array_to_img, img_to_array, load_img\n",
    "from tensorflow.keras.optimizers import SGD, Adam, RMSprop, Nadam\n",
    "from sklearn.utils import shuffle\n",
    "from sklearn.model_selection import train_test_split\n",
    "\n",
    "from functools import partial\n",
    "from pprint import pprint\n",
    "\n",
    "from sklearn.datasets import load_boston\n",
    "#from sklearn.ensemble import GradientBoostingRegressor, RandomForestRegressor\n",
    "from sklearn.ensemble import GradientBoostingClassifier, RandomForestClassifier\n",
    "from sklearn.metrics import make_scorer, mean_squared_error, log_loss\n",
    "from sklearn.model_selection import cross_val_score, KFold\n",
    "from sklearn.utils import check_random_state"
   ]
  },
  {
   "cell_type": "code",
   "execution_count": 73,
   "id": "5d64c0ae",
   "metadata": {},
   "outputs": [],
   "source": [
    "import pandas as pd\n",
    "import numpy as np\n",
    "from sklearn.model_selection import train_test_split"
   ]
  },
  {
   "cell_type": "code",
   "execution_count": 48,
   "id": "826b4e9c",
   "metadata": {},
   "outputs": [],
   "source": [
    "compas = pd.read_csv('../data/compas-scores-two-years.csv', encoding='latin-1')"
   ]
  },
  {
   "cell_type": "code",
   "execution_count": 16,
   "id": "d9779ce3",
   "metadata": {},
   "outputs": [
    {
     "data": {
      "text/plain": [
       "Index(['id', 'name', 'first', 'last', 'compas_screening_date', 'sex', 'dob',\n",
       "       'age', 'age_cat', 'race', 'juv_fel_count', 'decile_score',\n",
       "       'juv_misd_count', 'juv_other_count', 'priors_count',\n",
       "       'days_b_screening_arrest', 'c_jail_in', 'c_jail_out', 'c_case_number',\n",
       "       'c_offense_date', 'c_arrest_date', 'c_days_from_compas',\n",
       "       'c_charge_degree', 'c_charge_desc', 'is_recid', 'r_case_number',\n",
       "       'r_charge_degree', 'r_days_from_arrest', 'r_offense_date',\n",
       "       'r_charge_desc', 'r_jail_in', 'r_jail_out', 'violent_recid',\n",
       "       'is_violent_recid', 'vr_case_number', 'vr_charge_degree',\n",
       "       'vr_offense_date', 'vr_charge_desc', 'type_of_assessment',\n",
       "       'decile_score.1', 'score_text', 'screening_date',\n",
       "       'v_type_of_assessment', 'v_decile_score', 'v_score_text',\n",
       "       'v_screening_date', 'in_custody', 'out_custody', 'priors_count.1',\n",
       "       'start', 'end', 'event', 'two_year_recid'],\n",
       "      dtype='object')"
      ]
     },
     "execution_count": 16,
     "metadata": {},
     "output_type": "execute_result"
    }
   ],
   "source": [
    "compas.columns"
   ]
  },
  {
   "cell_type": "code",
   "execution_count": 49,
   "id": "f4f0ac41",
   "metadata": {},
   "outputs": [],
   "source": [
    "compas = compas[[\"sex\",\"age_cat\",\"race\",\"juv_fel_count\",\"decile_score\",\"juv_misd_count\",\"juv_other_count\",\n",
    "                \"priors_count\",\"c_charge_degree\",\"two_year_recid\"]]"
   ]
  },
  {
   "cell_type": "code",
   "execution_count": 50,
   "id": "4c85b806",
   "metadata": {},
   "outputs": [],
   "source": [
    "compas = compas.loc[compas.race.isin([\"Caucasian\", \"African-American\"])]"
   ]
  },
  {
   "cell_type": "code",
   "execution_count": 44,
   "id": "b0f5db1d",
   "metadata": {},
   "outputs": [
    {
     "data": {
      "text/html": [
       "<div>\n",
       "<style scoped>\n",
       "    .dataframe tbody tr th:only-of-type {\n",
       "        vertical-align: middle;\n",
       "    }\n",
       "\n",
       "    .dataframe tbody tr th {\n",
       "        vertical-align: top;\n",
       "    }\n",
       "\n",
       "    .dataframe thead th {\n",
       "        text-align: right;\n",
       "    }\n",
       "</style>\n",
       "<table border=\"1\" class=\"dataframe\">\n",
       "  <thead>\n",
       "    <tr style=\"text-align: right;\">\n",
       "      <th></th>\n",
       "      <th>sex</th>\n",
       "      <th>age_cat</th>\n",
       "      <th>race</th>\n",
       "      <th>juv_fel_count</th>\n",
       "      <th>decile_score</th>\n",
       "      <th>juv_misd_count</th>\n",
       "      <th>juv_other_count</th>\n",
       "      <th>priors_count</th>\n",
       "      <th>c_charge_degree</th>\n",
       "      <th>two_year_recid</th>\n",
       "    </tr>\n",
       "  </thead>\n",
       "  <tbody>\n",
       "    <tr>\n",
       "      <th>1</th>\n",
       "      <td>1</td>\n",
       "      <td>25 - 45</td>\n",
       "      <td>African-American</td>\n",
       "      <td>0</td>\n",
       "      <td>3</td>\n",
       "      <td>0</td>\n",
       "      <td>0</td>\n",
       "      <td>0</td>\n",
       "      <td>F</td>\n",
       "      <td>1</td>\n",
       "    </tr>\n",
       "    <tr>\n",
       "      <th>2</th>\n",
       "      <td>1</td>\n",
       "      <td>Less than 25</td>\n",
       "      <td>African-American</td>\n",
       "      <td>0</td>\n",
       "      <td>4</td>\n",
       "      <td>0</td>\n",
       "      <td>1</td>\n",
       "      <td>4</td>\n",
       "      <td>F</td>\n",
       "      <td>1</td>\n",
       "    </tr>\n",
       "    <tr>\n",
       "      <th>3</th>\n",
       "      <td>1</td>\n",
       "      <td>Less than 25</td>\n",
       "      <td>African-American</td>\n",
       "      <td>0</td>\n",
       "      <td>8</td>\n",
       "      <td>1</td>\n",
       "      <td>0</td>\n",
       "      <td>1</td>\n",
       "      <td>F</td>\n",
       "      <td>0</td>\n",
       "    </tr>\n",
       "    <tr>\n",
       "      <th>6</th>\n",
       "      <td>1</td>\n",
       "      <td>25 - 45</td>\n",
       "      <td>Caucasian</td>\n",
       "      <td>0</td>\n",
       "      <td>6</td>\n",
       "      <td>0</td>\n",
       "      <td>0</td>\n",
       "      <td>14</td>\n",
       "      <td>F</td>\n",
       "      <td>1</td>\n",
       "    </tr>\n",
       "    <tr>\n",
       "      <th>8</th>\n",
       "      <td>0</td>\n",
       "      <td>25 - 45</td>\n",
       "      <td>Caucasian</td>\n",
       "      <td>0</td>\n",
       "      <td>1</td>\n",
       "      <td>0</td>\n",
       "      <td>0</td>\n",
       "      <td>0</td>\n",
       "      <td>M</td>\n",
       "      <td>0</td>\n",
       "    </tr>\n",
       "  </tbody>\n",
       "</table>\n",
       "</div>"
      ],
      "text/plain": [
       "   sex       age_cat              race  juv_fel_count  decile_score  \\\n",
       "1    1       25 - 45  African-American              0             3   \n",
       "2    1  Less than 25  African-American              0             4   \n",
       "3    1  Less than 25  African-American              0             8   \n",
       "6    1       25 - 45         Caucasian              0             6   \n",
       "8    0       25 - 45         Caucasian              0             1   \n",
       "\n",
       "   juv_misd_count  juv_other_count  priors_count c_charge_degree  \\\n",
       "1               0                0             0               F   \n",
       "2               0                1             4               F   \n",
       "3               1                0             1               F   \n",
       "6               0                0            14               F   \n",
       "8               0                0             0               M   \n",
       "\n",
       "   two_year_recid  \n",
       "1               1  \n",
       "2               1  \n",
       "3               0  \n",
       "6               1  \n",
       "8               0  "
      ]
     },
     "execution_count": 44,
     "metadata": {},
     "output_type": "execute_result"
    }
   ],
   "source": [
    "compas.head()"
   ]
  },
  {
   "cell_type": "code",
   "execution_count": null,
   "id": "c15b337f",
   "metadata": {},
   "outputs": [],
   "source": [
    "df_dummy = df.copy()\n",
    "df_dummy['sex'] = (df['sex'].values == 'Female').astype(int)\n",
    "df_dummy['race'] = (df['race'].values == 'African-American').astype(int)\n",
    "df_dummy = pd.concat([df_dummy, pd.get_dummies(df.age_cat, drop_first=True)], axis=1)\n",
    "df_dummy = df_dummy.drop('age_cat', axis=1)\n",
    "df_dummy = df_dummy.rename(columns={\"Greater than 45\": \"gt45\", \"Less than 25\": \"lt25\"})\n",
    "df_dummy['c_charge_degree'] = (df['c_charge_degree'].values == 'F').astype(int)\n",
    "df_dummy"
   ]
  },
  {
   "cell_type": "code",
   "execution_count": 60,
   "id": "db6967f9",
   "metadata": {},
   "outputs": [],
   "source": [
    "compas_encoded = compas.copy()"
   ]
  },
  {
   "cell_type": "code",
   "execution_count": 61,
   "id": "d4195205",
   "metadata": {},
   "outputs": [],
   "source": [
    "compas_encoded.sex = pd.get_dummies(compas[\"sex\"])[\"Female\"]\n",
    "compas_encoded.race = pd.get_dummies(compas[\"race\"])[\"African-American\"]\n",
    "compas_encoded.c_charge_degree = pd.get_dummies(compas[\"c_charge_degree\"])[\"F\"]\n",
    "\n",
    "compas_encoded = pd.concat([compas_encoded, pd.get_dummies(compas.age_cat, drop_first=True)], axis=1)\n",
    "compas_encoded = compas_encoded.drop('age_cat', axis=1)"
   ]
  },
  {
   "cell_type": "code",
   "execution_count": 62,
   "id": "9c5a14bc",
   "metadata": {},
   "outputs": [
    {
     "data": {
      "text/html": [
       "<div>\n",
       "<style scoped>\n",
       "    .dataframe tbody tr th:only-of-type {\n",
       "        vertical-align: middle;\n",
       "    }\n",
       "\n",
       "    .dataframe tbody tr th {\n",
       "        vertical-align: top;\n",
       "    }\n",
       "\n",
       "    .dataframe thead th {\n",
       "        text-align: right;\n",
       "    }\n",
       "</style>\n",
       "<table border=\"1\" class=\"dataframe\">\n",
       "  <thead>\n",
       "    <tr style=\"text-align: right;\">\n",
       "      <th></th>\n",
       "      <th>sex</th>\n",
       "      <th>race</th>\n",
       "      <th>juv_fel_count</th>\n",
       "      <th>decile_score</th>\n",
       "      <th>juv_misd_count</th>\n",
       "      <th>juv_other_count</th>\n",
       "      <th>priors_count</th>\n",
       "      <th>c_charge_degree</th>\n",
       "      <th>two_year_recid</th>\n",
       "      <th>Greater than 45</th>\n",
       "      <th>Less than 25</th>\n",
       "    </tr>\n",
       "  </thead>\n",
       "  <tbody>\n",
       "    <tr>\n",
       "      <th>1</th>\n",
       "      <td>0</td>\n",
       "      <td>1</td>\n",
       "      <td>0</td>\n",
       "      <td>3</td>\n",
       "      <td>0</td>\n",
       "      <td>0</td>\n",
       "      <td>0</td>\n",
       "      <td>1</td>\n",
       "      <td>1</td>\n",
       "      <td>0</td>\n",
       "      <td>0</td>\n",
       "    </tr>\n",
       "    <tr>\n",
       "      <th>2</th>\n",
       "      <td>0</td>\n",
       "      <td>1</td>\n",
       "      <td>0</td>\n",
       "      <td>4</td>\n",
       "      <td>0</td>\n",
       "      <td>1</td>\n",
       "      <td>4</td>\n",
       "      <td>1</td>\n",
       "      <td>1</td>\n",
       "      <td>0</td>\n",
       "      <td>1</td>\n",
       "    </tr>\n",
       "    <tr>\n",
       "      <th>3</th>\n",
       "      <td>0</td>\n",
       "      <td>1</td>\n",
       "      <td>0</td>\n",
       "      <td>8</td>\n",
       "      <td>1</td>\n",
       "      <td>0</td>\n",
       "      <td>1</td>\n",
       "      <td>1</td>\n",
       "      <td>0</td>\n",
       "      <td>0</td>\n",
       "      <td>1</td>\n",
       "    </tr>\n",
       "    <tr>\n",
       "      <th>6</th>\n",
       "      <td>0</td>\n",
       "      <td>0</td>\n",
       "      <td>0</td>\n",
       "      <td>6</td>\n",
       "      <td>0</td>\n",
       "      <td>0</td>\n",
       "      <td>14</td>\n",
       "      <td>1</td>\n",
       "      <td>1</td>\n",
       "      <td>0</td>\n",
       "      <td>0</td>\n",
       "    </tr>\n",
       "    <tr>\n",
       "      <th>8</th>\n",
       "      <td>1</td>\n",
       "      <td>0</td>\n",
       "      <td>0</td>\n",
       "      <td>1</td>\n",
       "      <td>0</td>\n",
       "      <td>0</td>\n",
       "      <td>0</td>\n",
       "      <td>0</td>\n",
       "      <td>0</td>\n",
       "      <td>0</td>\n",
       "      <td>0</td>\n",
       "    </tr>\n",
       "  </tbody>\n",
       "</table>\n",
       "</div>"
      ],
      "text/plain": [
       "   sex  race  juv_fel_count  decile_score  juv_misd_count  juv_other_count  \\\n",
       "1    0     1              0             3               0                0   \n",
       "2    0     1              0             4               0                1   \n",
       "3    0     1              0             8               1                0   \n",
       "6    0     0              0             6               0                0   \n",
       "8    1     0              0             1               0                0   \n",
       "\n",
       "   priors_count  c_charge_degree  two_year_recid  Greater than 45  \\\n",
       "1             0                1               1                0   \n",
       "2             4                1               1                0   \n",
       "3             1                1               0                0   \n",
       "6            14                1               1                0   \n",
       "8             0                0               0                0   \n",
       "\n",
       "   Less than 25  \n",
       "1             0  \n",
       "2             1  \n",
       "3             1  \n",
       "6             0  \n",
       "8             0  "
      ]
     },
     "execution_count": 62,
     "metadata": {},
     "output_type": "execute_result"
    }
   ],
   "source": [
    "compas_encoded.head()"
   ]
  },
  {
   "cell_type": "code",
   "execution_count": 63,
   "id": "f1f68f8a",
   "metadata": {},
   "outputs": [],
   "source": [
    "X = ['sex','Greater than 45','Less than 25','juv_fel_count','decile_score','juv_misd_count','juv_other_count','priors_count']\n",
    "S = \"race\"\n",
    "E = \"c_charge_degree\"\n",
    "Y = \"two_year_recid\"\n",
    "X_ALL = ['sex','Greater than 45','Less than 25','juv_fel_count','decile_score','juv_misd_count',\n",
    "         'juv_other_count','priors_count','race','c_charge_degree']"
   ]
  },
  {
   "cell_type": "code",
   "execution_count": 78,
   "id": "3be9e468",
   "metadata": {},
   "outputs": [],
   "source": [
    "# 5:1:1 split\n",
    "np.random.seed(5243)\n",
    "train, test = train_test_split(compas_encoded, test_size=1/7)\n",
    "train, val = train_test_split(train, test_size=1/6)"
   ]
  },
  {
   "cell_type": "code",
   "execution_count": 79,
   "id": "11b620c0",
   "metadata": {},
   "outputs": [
    {
     "name": "stdout",
     "output_type": "stream",
     "text": [
      "(4392, 11) (879, 11) (879, 11)\n"
     ]
    }
   ],
   "source": [
    "print(train.shape, test.shape, val.shape)"
   ]
  },
  {
   "cell_type": "code",
   "execution_count": 82,
   "id": "c21d6fc9",
   "metadata": {},
   "outputs": [],
   "source": [
    "X_train = train[X_ALL]\n",
    "L_train = train[X]\n",
    "s_train = train[S]\n",
    "e_train = train[E]\n",
    "y_train = train[Y]\n",
    "\n",
    "X_val = val[X_ALL]\n",
    "L_val = val[X]\n",
    "s_val = val[S]\n",
    "e_val = val[E]\n",
    "y_val = val[Y]\n",
    "\n",
    "X_test = test[X_ALL]\n",
    "L_test = test[X]\n",
    "s_test = test[S]\n",
    "e_test = test[E]\n",
    "y_test = test[Y]"
   ]
  },
  {
   "cell_type": "code",
   "execution_count": 89,
   "id": "87f20847",
   "metadata": {},
   "outputs": [
    {
     "data": {
      "text/plain": [
       "0.6814562002275313"
      ]
     },
     "execution_count": 89,
     "metadata": {},
     "output_type": "execute_result"
    }
   ],
   "source": [
    "clf = LogisticRegression(random_state=0).fit(X_train, y_train)\n",
    "clf.score(X_val, y_val)\n"
   ]
  },
  {
   "cell_type": "markdown",
   "id": "6565833d",
   "metadata": {},
   "source": [
    "## Create functions used in pseudocode"
   ]
  },
  {
   "cell_type": "code",
   "execution_count": 91,
   "id": "f66b7b4c",
   "metadata": {},
   "outputs": [],
   "source": [
    "# Creates a list of partitions - 1 for each unique value of e\n",
    "\n",
    "# X is the full dataset (in our case, train)\n",
    "# e is the \n",
    "def PARTITION(X):\n",
    "    partitions = list()\n",
    "    \n",
    "    for e_i in np.unique(X[E]):\n",
    "        partitions.append(X[X[E]==e_i])\n",
    "    \n",
    "    return partitions"
   ]
  },
  {
   "cell_type": "code",
   "execution_count": 93,
   "id": "f680406e",
   "metadata": {},
   "outputs": [],
   "source": [
    "def DELTA(X, X_ei, s_i):\n",
    "    Gi = sum(X_ei[S] == s_i)\n",
    "    \n",
    "    X_ei_si = X_ei[X_ei[S] == s_i]\n",
    "    \n",
    "    P_denom = X_ei_si.shape[0]\n",
    "    P_num = sum(X_ei_si[Y] == 1)\n",
    "    P = P_num/P_denom\n",
    "    \n",
    "    X_ei_not_si = X_ei[X_ei[S] != s_i]\n",
    "    \n",
    "    Ps_2 = sum(X_ei_not_si[Y] == 1)/X_ei_not_si.shape[0]\n",
    "    \n",
    "    Ps = (P+Ps_2)/2\n",
    "    \n",
    "    d = int(round(Gi * abs(P - Ps)))\n",
    "    \n",
    "    return(d)"
   ]
  },
  {
   "cell_type": "code",
   "execution_count": 99,
   "id": "5c095c24",
   "metadata": {},
   "outputs": [],
   "source": [
    "for X_ei in PARTITION(train):\n",
    "    ranker_model = LogisticRegression(random_state=0).fit(X_ei[X], X_ei[Y])\n",
    "    "
   ]
  },
  {
   "cell_type": "code",
   "execution_count": 107,
   "id": "cf778a13",
   "metadata": {},
   "outputs": [
    {
     "data": {
      "text/plain": [
       "(814,)"
      ]
     },
     "execution_count": 107,
     "metadata": {},
     "output_type": "execute_result"
    }
   ],
   "source": [
    "ranker_model.decision_function(PARTITION(train)[0][PARTITION(train)[0][S]==1][X]).shape"
   ]
  },
  {
   "cell_type": "code",
   "execution_count": 102,
   "id": "3a62ea01",
   "metadata": {},
   "outputs": [
    {
     "data": {
      "text/plain": [
       "array([1, 0, 0, 1, 1, 1, 0, 0, 1, 1])"
      ]
     },
     "execution_count": 102,
     "metadata": {},
     "output_type": "execute_result"
    }
   ],
   "source": [
    "ranker_model.predict(val[X][:10])"
   ]
  },
  {
   "cell_type": "code",
   "execution_count": 103,
   "id": "a8c80eb4",
   "metadata": {},
   "outputs": [
    {
     "data": {
      "text/plain": [
       "array([[0.34899476, 0.65100524],\n",
       "       [0.69225877, 0.30774123],\n",
       "       [0.6065416 , 0.3934584 ],\n",
       "       [0.33548326, 0.66451674],\n",
       "       [0.21149971, 0.78850029],\n",
       "       [0.10909086, 0.89090914],\n",
       "       [0.60004459, 0.39995541],\n",
       "       [0.72700983, 0.27299017],\n",
       "       [0.31074318, 0.68925682],\n",
       "       [0.33561283, 0.66438717]])"
      ]
     },
     "execution_count": 103,
     "metadata": {},
     "output_type": "execute_result"
    }
   ],
   "source": [
    "ranker_model.predict_proba(val[X][:10])"
   ]
  }
 ],
 "metadata": {
  "kernelspec": {
   "display_name": "myenv",
   "language": "python",
   "name": "myenv"
  },
  "language_info": {
   "codemirror_mode": {
    "name": "ipython",
    "version": 3
   },
   "file_extension": ".py",
   "mimetype": "text/x-python",
   "name": "python",
   "nbconvert_exporter": "python",
   "pygments_lexer": "ipython3",
   "version": "3.9.10"
  }
 },
 "nbformat": 4,
 "nbformat_minor": 5
}
