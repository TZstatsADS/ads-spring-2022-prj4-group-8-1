{
 "cells": [
  {
   "cell_type": "markdown",
   "id": "aa4b5532",
   "metadata": {},
   "source": [
    "# Project 4\n",
    "\n",
    "Implementating, evaluating and comparing on  algorithms: Fairness Beyond Disparate Treatment & Disparate Impact: Learning Classification without Disparate Mistreatment (DM and DM-sen) and Handling Conditional Discrimination (LM and LPS)\n",
    "\n",
    "Team members: \n",
    "\n",
    "- Sarah Kurihara\n",
    "\n",
    "- Varchasvi Vedula\n",
    "\n",
    "- Wenhui Fang\n",
    "\n",
    "- Krista Zhang\n",
    "\n",
    "- Sharon Meng\n"
   ]
  },
  {
   "cell_type": "markdown",
   "id": "9553c10d",
   "metadata": {},
   "source": [
    "# 1. Setup"
   ]
  },
  {
   "cell_type": "markdown",
   "id": "8efba2fb",
   "metadata": {},
   "source": [
    "### Import packages"
   ]
  },
  {
   "cell_type": "code",
   "execution_count": 2,
   "id": "14070a06",
   "metadata": {},
   "outputs": [],
   "source": [
    "import warnings\n",
    "\n",
    "import time,sys\n",
    "import zipfile\n",
    "import random\n",
    "import pandas as pd\n",
    "import numpy as np\n",
    "import tensorflow as tf\n",
    "from sklearn.model_selection import train_test_split\n",
    "from sklearn.preprocessing import StandardScaler\n",
    "from sklearn.linear_model import LogisticRegression\n",
    "from sklearn.metrics import classification_report\n",
    "from sklearn.svm import SVC\n",
    "from tensorflow import keras\n",
    "from keras.layers import Dense, Input\n",
    "from tensorflow.keras import Model\n",
    "import scipy.stats as ss\n",
    "import dccp\n",
    "import cvxpy as cvx\n",
    "from cvxpy import *\n",
    "\n",
    "warnings.filterwarnings('ignore')"
   ]
  },
  {
   "cell_type": "markdown",
   "id": "10067a12",
   "metadata": {},
   "source": [
    "### Load Dataset and Data Preprocessing\n",
    "\n"
   ]
  },
  {
   "cell_type": "code",
   "execution_count": 65,
   "id": "227f5880",
   "metadata": {},
   "outputs": [
    {
     "name": "stdout",
     "output_type": "stream",
     "text": [
      "  sex  age race  juv_fel_count  decile_score  juv_misd_count  juv_other_count  \\\n",
      "1   1   34    0              0             3               0                0   \n",
      "2   1   24    0              0             4               0                1   \n",
      "6   1   41    1              0             6               0                0   \n",
      "8   0   39    1              0             1               0                0   \n",
      "9   1   21    1              0             3               0                0   \n",
      "\n",
      "   priors_count  c_days_from_compas c_charge_degree  is_violent_recid  event  \\\n",
      "1             0            0.693147               0                 1      1   \n",
      "2             4            0.693147               0                 0      0   \n",
      "6            14            0.693147               0                 0      1   \n",
      "8             0            0.693147               1                 0      0   \n",
      "9             1            5.733341               0                 1      1   \n",
      "\n",
      "   two_year_recid       los   custody     lasts  \n",
      "1               1  5.488938  5.484797  5.017280  \n",
      "2               1  3.295837  0.000000  4.158883  \n",
      "6               1  5.023881  6.070738  3.583519  \n",
      "8               0  4.262680  4.290459  6.614726  \n",
      "9               1  3.178054  3.218876  6.061457  \n"
     ]
    }
   ],
   "source": [
    "start=time.time()\n",
    "data = pd.read_csv('../data/compas-scores-two-years.csv')\n",
    "#print(data.shape)\n",
    "# filter out groups other than African-American and Caucasian and set them as 0-1\n",
    "data = data[(data['race']=='African-American') | (data['race']=='Caucasian')]\n",
    "data['race'].loc[data['race']=='Caucasian'] = 1\n",
    "data['race'].loc[data['race']=='African-American'] = 0\n",
    "#print(data.shape)\n",
    "\n",
    "nan = (data.isnull().sum()/len(data))\n",
    "nan = nan[nan > 0.15].sort_values()\n",
    "nan_var = list(nan.index)\n",
    "data = data.drop(columns=nan_var)\n",
    "\n",
    "data['c_jail_in'] = pd.to_datetime(data['c_jail_in'])\n",
    "data['c_jail_out'] = pd.to_datetime(data['c_jail_out'])\n",
    "data['los'] = np.log((data['c_jail_out']-data['c_jail_in']).astype('timedelta64[h]')+1)#use log hours\n",
    "data['in_custody'] = pd.to_datetime(data['in_custody'])\n",
    "data['out_custody'] = pd.to_datetime(data['out_custody'])\n",
    "data['custody'] = np.log((data['out_custody']-data['in_custody']).astype('timedelta64[h]')+1)\n",
    "data['lasts'] = np.log(data['end']-data['start']+1)\n",
    "data['c_days_from_compas'] = np.log(data['c_days_from_compas']+1)\n",
    "\n",
    "#filter out useless variables including high correlation and string type\n",
    "useless_var = ['id','name','first','last','compas_screening_date','dob','age_cat','days_b_screening_arrest',\n",
    "               'c_jail_in','c_jail_out','c_case_number','c_charge_desc','is_recid',\n",
    "               'type_of_assessment','screening_date','v_type_of_assessment',\n",
    "               'v_screening_date','in_custody','out_custody','score_text','v_score_text',\n",
    "               'decile_score.1','v_decile_score','priors_count.1','start','end']\n",
    "data = data.drop(columns=useless_var)\n",
    "data = data[data['los']!=float('-inf')]\n",
    "data = data[data['custody']!=float('-inf')]\n",
    "data = data[data['lasts']!=float('-inf')]\n",
    "\n",
    "#one hot encoding on several features:sex,age_cat,c_charge_degree\n",
    "data['sex'].loc[data['sex']=='Male']= 1\n",
    "data['sex'].loc[data['sex']=='Female']= 0\n",
    "data['c_charge_degree'].loc[data['c_charge_degree']=='M']= 1\n",
    "data['c_charge_degree'].loc[data['c_charge_degree']=='F']= 0\n",
    "#data.to_csv('./data/compas_preproc.csv',index=False,header=True)\n",
    "del nan_var, useless_var\n",
    "\n",
    "#data = data[['age','race','sex','decile_score','priors_count','los','c_charge_degree','two_year_recid']]\n",
    "data = data.dropna()#6150*23->5730*16\n",
    "#print(data.shape)\n",
    "print(data.head(5))\n",
    "\n",
    "X = data.drop(columns='two_year_recid')\n",
    "features = list(X.columns)\n",
    "\n",
    "X.index = range(data.shape[0])\n",
    "#As age, priors_count, los are continuous variables, we can scale them\n",
    "X_cont = X[['age', 'juv_fel_count', 'decile_score', 'juv_misd_count', 'juv_other_count', 'priors_count', 'c_days_from_compas', 'los', 'custody', 'lasts']]\n",
    "X_cate = X[['sex', 'race', 'c_charge_degree', 'is_violent_recid', 'event']]\n",
    "X_cont = pd.DataFrame(StandardScaler().fit_transform(X_cont),columns=['age', 'juv_fel_count', 'decile_score', 'juv_misd_count', 'juv_other_count', 'priors_count', 'c_days_from_compas', 'los', 'custody', 'lasts'])\n",
    "#X_cont = X[['age', 'decile_score', 'priors_count', 'los']]\n",
    "#X_cate = X[['sex', 'race', 'c_charge_degree']]\n",
    "#X_cont = pd.DataFrame(StandardScaler().fit_transform(X_cont),columns=['age', 'decile_score', 'priors_count', 'los'])\n",
    "\n",
    "X_df = pd.concat([X_cate,X_cont],axis=1)\n",
    "#X['decile_score'] = X['decile_score']/10\n",
    "y_df = data[\"two_year_recid\"]\n",
    "# convert class label 0 to -1 so as to add sign in distance\n",
    "#y[y==0] = -1\n",
    "features = list(X.columns)\n",
    "\n",
    "X = np.asarray(X_df).astype('float32')\n",
    "y = np.asarray(y_df).astype('float32')\n",
    "\n",
    "del X_cate,X_cont"
   ]
  },
  {
   "cell_type": "code",
   "execution_count": 66,
   "id": "bd5fa36b",
   "metadata": {},
   "outputs": [
    {
     "name": "stdout",
     "output_type": "stream",
     "text": [
      "\n",
      " ################################################################################ \n",
      "                       Split up Train-Validation-Test sets  \n",
      " ################################################################################ \n",
      "\n",
      " X_train size:  (4130, 15) ,      y_train size:  (4130,) \n",
      " X_validation size:  (800, 15) ,  y_validation size:  (800,) \n",
      " X_test size:  (800, 15) ,        y_test size:  (800,)\n",
      " X_train_AA size:  (2472, 15) ,   X_train_C size:  (1658, 15) \n",
      " X_test_AA size:  (478, 15) ,     X_test_C size:  (322, 15) \n",
      " Ratio: 1.490952955367913 1.484472049689441\n",
      "\n",
      " ################################################################################\n"
     ]
    }
   ],
   "source": [
    "#Use 5:1:1 as the ratio of train:val:test\n",
    "X_train, X_test, y_train, y_test = train_test_split(X, y, test_size=800, random_state=3)\n",
    "X_train, X_val, y_train, y_val = train_test_split(X_train,y_train,test_size=800,random_state=3)\n",
    "\n",
    "# For A6\n",
    "X_train_df, X_test_df, y_train_df, y_test_df = train_test_split(X_df, y_df, test_size=800, random_state=3)\n",
    "X_train_df, X_val_df, y_train_df, y_val_df = train_test_split(X_train_df,y_train_df,test_size=800,random_state=3)\n",
    "\n",
    "train_size = len(y_train)\n",
    "train_idx_AA = np.array(range(train_size))[X_train[:,1]==0.0]\n",
    "train_idx_C = np.array(range(train_size))[X_train[:,1]==1.0]\n",
    "test_size = len(y_test)\n",
    "test_idx_AA = np.array(range(test_size))[X_test[:,1]==0.0]\n",
    "test_idx_C = np.array(range(test_size))[X_test[:,1]==1.0]\n",
    "\n",
    "# For A6\n",
    "X_train_df.race = abs(X_train_df.race-1)\n",
    "X_test_df.race = abs(X_test_df.race-1)\n",
    "X_val_df.race = abs(X_val_df.race-1)\n",
    "X_train_df.race = abs(X_train_df.c_charge_degree-1)\n",
    "X_test_df.race = abs(X_test_df.c_charge_degree-1)\n",
    "X_val_df.race = abs(X_val_df.c_charge_degree-1)\n",
    "train = pd.concat([X_train_df.reset_index(drop=True), y_train_df.reset_index(drop=True)], axis = 1)\n",
    "test = pd.concat([X_test_df.reset_index(drop=True), y_test_df.reset_index(drop=True)], axis = 1)\n",
    "\n",
    "print('\\n',\"#\"*80,'\\n',' '*20,\" Split up Train-Validation-Test sets \",'\\n',\"#\"*80,'\\n')\n",
    "print(\" X_train size: \", X_train.shape, \",      y_train size: \", y_train.shape, '\\n',\n",
    "      \"X_validation size: \", X_val.shape, \",  y_validation size: \", y_val.shape, '\\n',\n",
    "      \"X_test size: \", X_test.shape, ',        y_test size: ',y_test.shape)\n",
    "print(\" X_train_AA size: \", X_train[train_idx_AA].shape, \",   X_train_C size: \", X_train[train_idx_C].shape, '\\n',\n",
    "      \"X_test_AA size: \", X_test[test_idx_AA].shape, ',     X_test_C size: ',X_test[test_idx_C].shape, '\\n',\n",
    "      \"Ratio:\", X_train[train_idx_AA].shape[0]/X_train[train_idx_C].shape[0],X_test[test_idx_AA].shape[0]/X_test[test_idx_C].shape[0])\n",
    "print('\\n',\"#\"*80)"
   ]
  },
  {
   "cell_type": "markdown",
   "id": "a550ba68",
   "metadata": {},
   "source": [
    "# 2. A4"
   ]
  },
  {
   "cell_type": "markdown",
   "id": "02411ca9",
   "metadata": {
    "id": "tFkhz8MEIQiC"
   },
   "source": [
    "## 2.1 Baseline Model And Evaluation"
   ]
  },
  {
   "cell_type": "code",
   "execution_count": 40,
   "id": "6a6c322d",
   "metadata": {
    "id": "Q1yehARm7H2Z"
   },
   "outputs": [],
   "source": [
    "#If use Neural Network as base model\n",
    "def base_nn_model(X_in,y_in,X_val,y_val):\n",
    "    feature = Input(X_in.shape[1],)\n",
    "    y = Dense(2,\"softmax\")(feature)\n",
    "    model = Model(feature,y)\n",
    "    \n",
    "    adam = tf.keras.optimizers.Adam(0.001)\n",
    "    loss = keras.losses.BinaryCrossentropy(from_logits=True)\n",
    "    metric = [tf.keras.metrics.BinaryAccuracy()]\n",
    "    #,tf.keras.metrics.FalsePositives()，tf.keras.metrics.FalseNegatives()\n",
    "    model.compile(optimizer=adam, loss=loss, metrics=metric)\n",
    "    model.fit(X_in,tf.one_hot(y_in,2),epochs=10,batch_size=10,validation_data=(X_val,tf.one_hot(y_val,2)))\n",
    "    return model\n",
    "\n",
    "def evaluation(model,X,y):\n",
    "    y_pred = model.predict(X)\n",
    "    y_pred = np.argmax(np.round(y_pred), axis=1)\n",
    "    y_pred_AA, y_test_AA = y_pred[test_idx_AA], y[test_idx_AA]\n",
    "    y_pred_C, y_test_C = y_pred[test_idx_C], y[test_idx_C]\n",
    "    acc = model.evaluate(X, tf.one_hot(y,2))[1]\n",
    "    FPR_all = sum(y_pred[y==0]==1)/len(y[y==0])\n",
    "    FNR_all = sum(y_pred[y==1]==0)/len(y[y==1])\n",
    "    FPR_AA = sum(y_pred_AA[y_test_AA==0]==1)/len(y_test_AA[y_test_AA==0])\n",
    "    FNR_AA = sum(y_pred_AA[y_test_AA==1]==0)/len(y_test_AA[y_test_AA==1])\n",
    "    FPR_C = sum(y_pred_C[y_test_C==0]==1)/len(y_test_C[y_test_C==0])\n",
    "    FNR_C = sum(y_pred_C[y_test_C==1]==0)/len(y_test_C[y_test_C==1])\n",
    "    pred_p_AA, pred_p_C = np.mean(y_pred_AA==1), np.mean(y_pred_C==1)\n",
    "    acc_AA, acc_C = np.mean(y_pred_AA == y_test_AA), np.mean(y_pred_C == y_test_C)\n",
    "    print('\\n',\"#\"*80)\n",
    "    print('The accuracy of baseline model NN is: %3f.'%(acc))\n",
    "    print('The False Positive Rate for overall population is: %3f.'%FPR_all)\n",
    "    print('The False Negative Rate for overall population is: %3f.'%FNR_all)\n",
    "    print(\"Specifically:\")\n",
    "    print('Parity Check: The rate of positive estimate for African American and Caucasian are %3f and %3f, and D_par=%3f.'%(pred_p_AA,pred_p_C,pred_p_AA-pred_p_C))\n",
    "    print('Calibration Check: The rate of correct estimate for African American and Caucasian are %3f and %3f, and D_cal=%3f.'%(acc_AA,acc_C,acc_AA-acc_C))\n",
    "    print('The False Positive Rate for African American and Caucasian are %3f and %3f, and D_FPR=%3f.'%(FPR_AA,FPR_C,FPR_AA-FPR_C))\n",
    "    print('The False Negative Rate for African American and Caucasian are %3f and %3f, and D_FNR=%3f.'%(FNR_AA,FNR_C,FNR_AA-FNR_C))\n",
    "    print('\\n',\"#\"*80)"
   ]
  },
  {
   "cell_type": "code",
   "execution_count": 41,
   "id": "2d90e29c",
   "metadata": {
    "colab": {
     "base_uri": "https://localhost:8080/"
    },
    "id": "w7C6kS-eRCs5",
    "outputId": "0a820a96-eefb-4c2c-bd8d-8d4b2bf4f7fb"
   },
   "outputs": [
    {
     "name": "stdout",
     "output_type": "stream",
     "text": [
      "Epoch 1/10\n"
     ]
    },
    {
     "name": "stderr",
     "output_type": "stream",
     "text": [
      "2022-04-10 15:34:11.319385: W tensorflow/core/platform/profile_utils/cpu_utils.cc:128] Failed to get CPU frequency: 0 Hz\n"
     ]
    },
    {
     "name": "stdout",
     "output_type": "stream",
     "text": [
      "413/413 [==============================] - 0s 659us/step - loss: 0.7449 - binary_accuracy: 0.6378 - val_loss: 0.5804 - val_binary_accuracy: 0.8150\n",
      "Epoch 2/10\n",
      "413/413 [==============================] - 0s 439us/step - loss: 0.5076 - binary_accuracy: 0.8441 - val_loss: 0.4428 - val_binary_accuracy: 0.8788\n",
      "Epoch 3/10\n",
      "413/413 [==============================] - 0s 435us/step - loss: 0.4095 - binary_accuracy: 0.8726 - val_loss: 0.3736 - val_binary_accuracy: 0.8875\n",
      "Epoch 4/10\n",
      "413/413 [==============================] - 0s 437us/step - loss: 0.3532 - binary_accuracy: 0.8818 - val_loss: 0.3278 - val_binary_accuracy: 0.8963\n",
      "Epoch 5/10\n",
      "413/413 [==============================] - 0s 435us/step - loss: 0.3145 - binary_accuracy: 0.8998 - val_loss: 0.2950 - val_binary_accuracy: 0.9062\n",
      "Epoch 6/10\n",
      "413/413 [==============================] - 0s 436us/step - loss: 0.2864 - binary_accuracy: 0.9068 - val_loss: 0.2709 - val_binary_accuracy: 0.9112\n",
      "Epoch 7/10\n",
      "413/413 [==============================] - 0s 439us/step - loss: 0.2653 - binary_accuracy: 0.9133 - val_loss: 0.2528 - val_binary_accuracy: 0.9125\n",
      "Epoch 8/10\n",
      "413/413 [==============================] - 0s 470us/step - loss: 0.2493 - binary_accuracy: 0.9167 - val_loss: 0.2388 - val_binary_accuracy: 0.9137\n",
      "Epoch 9/10\n",
      "413/413 [==============================] - 0s 460us/step - loss: 0.2367 - binary_accuracy: 0.9186 - val_loss: 0.2279 - val_binary_accuracy: 0.9125\n",
      "Epoch 10/10\n",
      "413/413 [==============================] - 0s 461us/step - loss: 0.2267 - binary_accuracy: 0.9191 - val_loss: 0.2191 - val_binary_accuracy: 0.9125\n",
      "25/25 [==============================] - 0s 643us/step - loss: 0.2079 - binary_accuracy: 0.9337\n",
      "\n",
      " ################################################################################\n",
      "The accuracy of baseline model NN is: 0.933750.\n",
      "The False Positive Rate for overall population is: 0.076739.\n",
      "The False Negative Rate for overall population is: 0.054830.\n",
      "Specifically:\n",
      "Parity Check: The rate of positive estimate for African American and Caucasian are 0.564854 and 0.385093, and D_par=0.179760.\n",
      "Calibration Check: The rate of correct estimate for African American and Caucasian are 0.935146 and 0.931677, and D_cal=0.003469.\n",
      "The False Positive Rate for African American and Caucasian are 0.099548 and 0.051020, and D_FPR=0.048527.\n",
      "The False Negative Rate for African American and Caucasian are 0.035019 and 0.095238, and D_FNR=-0.060219.\n",
      "\n",
      " ################################################################################\n",
      "Epoch 1/10\n",
      "413/413 [==============================] - 0s 632us/step - loss: 0.5828 - binary_accuracy: 0.7530 - val_loss: 0.4906 - val_binary_accuracy: 0.7937\n",
      "Epoch 2/10\n",
      "413/413 [==============================] - 0s 470us/step - loss: 0.4341 - binary_accuracy: 0.8344 - val_loss: 0.3969 - val_binary_accuracy: 0.8537\n",
      "Epoch 3/10\n",
      "413/413 [==============================] - 0s 465us/step - loss: 0.3657 - binary_accuracy: 0.8736 - val_loss: 0.3438 - val_binary_accuracy: 0.8825\n",
      "Epoch 4/10\n",
      "413/413 [==============================] - 0s 466us/step - loss: 0.3239 - binary_accuracy: 0.8884 - val_loss: 0.3085 - val_binary_accuracy: 0.8925\n",
      "Epoch 5/10\n",
      "413/413 [==============================] - 0s 468us/step - loss: 0.2952 - binary_accuracy: 0.8990 - val_loss: 0.2837 - val_binary_accuracy: 0.9013\n",
      "Epoch 6/10\n",
      "413/413 [==============================] - 0s 466us/step - loss: 0.2739 - binary_accuracy: 0.9073 - val_loss: 0.2646 - val_binary_accuracy: 0.9100\n",
      "Epoch 7/10\n",
      "413/413 [==============================] - 0s 450us/step - loss: 0.2575 - binary_accuracy: 0.9099 - val_loss: 0.2496 - val_binary_accuracy: 0.9137\n",
      "Epoch 8/10\n",
      "413/413 [==============================] - 0s 445us/step - loss: 0.2445 - binary_accuracy: 0.9143 - val_loss: 0.2374 - val_binary_accuracy: 0.9150\n",
      "Epoch 9/10\n",
      "413/413 [==============================] - 0s 447us/step - loss: 0.2339 - binary_accuracy: 0.9162 - val_loss: 0.2275 - val_binary_accuracy: 0.9162\n",
      "Epoch 10/10\n",
      "413/413 [==============================] - 0s 447us/step - loss: 0.2252 - binary_accuracy: 0.9169 - val_loss: 0.2191 - val_binary_accuracy: 0.9187\n",
      "25/25 [==============================] - 0s 609us/step - loss: 0.2047 - binary_accuracy: 0.9287\n",
      "\n",
      " ################################################################################\n",
      "The accuracy of baseline model NN is: 0.928750.\n",
      "The False Positive Rate for overall population is: 0.081535.\n",
      "The False Negative Rate for overall population is: 0.060052.\n",
      "Specifically:\n",
      "Parity Check: The rate of positive estimate for African American and Caucasian are 0.554393 and 0.400621, and D_par=0.153772.\n",
      "Calibration Check: The rate of correct estimate for African American and Caucasian are 0.924686 and 0.934783, and D_cal=-0.010096.\n",
      "The False Positive Rate for African American and Caucasian are 0.099548 and 0.061224, and D_FPR=0.038323.\n",
      "The False Negative Rate for African American and Caucasian are 0.054475 and 0.071429, and D_FNR=-0.016954.\n",
      "\n",
      " ################################################################################\n"
     ]
    }
   ],
   "source": [
    "#If we don't drop 'race' in the X_train and X_test:\n",
    "NN1 = base_nn_model(X_train,y_train,X_val,y_val)\n",
    "evaluation(NN1,X_test,y_test)\n",
    "#If we drop 'race' in the X_train and X_test:\n",
    "NN2 = base_nn_model(np.delete(X_train,0,1),y_train,np.delete(X_val,0,1),y_val)\n",
    "evaluation(NN2,np.delete(X_test,1,1),y_test)"
   ]
  },
  {
   "cell_type": "markdown",
   "id": "e49bc9a8",
   "metadata": {
    "id": "EXWOqulX9WSV"
   },
   "source": [
    "Then we custom constraint and loss to the base model:"
   ]
  },
  {
   "cell_type": "code",
   "execution_count": 42,
   "id": "b305b064",
   "metadata": {
    "colab": {
     "base_uri": "https://localhost:8080/"
    },
    "id": "UJz_2QB2NvLn",
    "outputId": "af626719-84b7-4d4f-e4fb-e53300de600e"
   },
   "outputs": [
    {
     "name": "stdout",
     "output_type": "stream",
     "text": [
      "-0.060218639985176944 0.04852710314895188\n"
     ]
    }
   ],
   "source": [
    "def DFR(model,X,y,type):\n",
    "    '''\n",
    "    type: str in ['dfnr','dfpr','both']\n",
    "    '''\n",
    "    if type!='dfnr' and type!='dfpr' and type!='both':\n",
    "        return None\n",
    "    size = len(y)\n",
    "    idx_AA = np.array(range(size))[X[:,1]==0.0]\n",
    "    idx_C = np.array(range(size))[X[:,1]==1.0]\n",
    "    y_pred = model.predict(X)\n",
    "    y_pred = np.argmax(np.round(y_pred), axis=1)\n",
    "    y_pred_AA, y_AA = y_pred[idx_AA], y[idx_AA]\n",
    "    y_pred_C, y_C = y_pred[idx_C], y[idx_C] \n",
    "    FPR_AA = sum(y_pred_AA[y_AA==0]==1)/len(y_AA[y_AA==0])\n",
    "    FNR_AA = sum(y_pred_AA[y_AA==1]==0)/len(y_AA[y_AA==1])\n",
    "    FPR_C = sum(y_pred_C[y_C==0]==1)/len(y_C[y_C==0])\n",
    "    FNR_C = sum(y_pred_C[y_C==1]==0)/len(y_C[y_C==1])\n",
    "    dfnr = FNR_AA-FNR_C\n",
    "    dfpr = FPR_AA-FPR_C\n",
    "    if type=='dfnr':\n",
    "        return dfnr\n",
    "    elif type=='dfpr':\n",
    "        return dfpr\n",
    "    else:\n",
    "        return dfnr,dfpr\n",
    "dfnr,dfpr = DFR(NN1,X_test,y_test,'both')\n",
    "print(dfnr,dfpr)"
   ]
  },
  {
   "cell_type": "code",
   "execution_count": 43,
   "id": "38089198",
   "metadata": {
    "id": "wqkxAj9pDcbY"
   },
   "outputs": [],
   "source": [
    "def new_training_groups(model, X_train, y_train):\n",
    "    '''\n",
    "    X       n*d\n",
    "    model.predict(X)    n*2\n",
    "    y       n,\n",
    "    delta   c,\n",
    "    dfr   \"dfpr\",\"dfnr\",\"both\"\n",
    "    '''\n",
    "    \n",
    "    #split training sets according to sensitive variable\n",
    "    X_train_AA = X_train[np.array(X_train[:,1] == 0.0)]\n",
    "    y_train_AA = y_train[np.array(X_train[:,1] == 0.0)]\n",
    "    X_train_C = X_train[np.array(X_train[:,1] == 1.0)]\n",
    "    y_train_C = y_train[np.array(X_train[:,1] == 1.0)]\n",
    "    #get the ones with wrong prediction in discriminated group\n",
    "    dn,dp = DFR(model,X_train,y_train,type=\"both\")\n",
    "    if dp>0: d = 0\n",
    "    else: d = 1\n",
    "\n",
    "    if d == 0:\n",
    "        #take penalized trainers\n",
    "        y_pred_AA = np.argmax(model.predict(X_train_AA),axis = 1)\n",
    "        y_diff_AA = y_train_AA-y_pred_AA\n",
    "        X_train_penalized = X_train_AA[y_diff_AA != 0.0]\n",
    "        y_train_penalized = y_train_AA[y_diff_AA != 0.0]\n",
    "        # safe trainers\n",
    "        X_train_clean = X_train_AA[y_diff_AA == 0.0]\n",
    "        y_train_clean = y_train_AA[y_diff_AA == 0.0]\n",
    "        #make new\n",
    "        X_train_clean = np.concatenate((X_train_clean,X_train_C),axis=0)\n",
    "        y_train_clean = np.concatenate((y_train_clean,y_train_C),axis=0)\n",
    "    \n",
    "    else:\n",
    "        #reverse the steps above for train set 1\n",
    "        y_pred_C = np.argmax(model.predict(X_train_C),axis = 1)\n",
    "        y_diff_C = y_train_C-y_pred_C\n",
    "        X_train_penalized = X_train_C[y_diff_C != 0.0]\n",
    "        y_train_penalized = y_train_C[y_diff_C != 0.0]\n",
    "        # safe trainers\n",
    "        X_train_clean = X_train_C[y_diff_C == 0.0]\n",
    "        y_train_clean = y_train_C[y_diff_C == 0.0]\n",
    "        #make new\n",
    "        X_train_clean = np.concatenate((X_train_clean,X_train_AA),axis=0)\n",
    "        y_train_clean = np.concatenate((y_train_clean,y_train_AA),axis=0)\n",
    "    \n",
    "    #X_train_penalized = tf.convert_to_tensor(X_train_penalized, dtype=tf.float32)\n",
    "    #X_train_safe = tf.convert_to_tensor(X_train_safe, dtype=tf.float32)\n",
    "    return X_train_clean , y_train_clean , X_train_penalized , y_train_penalized, dn, dp\n"
   ]
  },
  {
   "cell_type": "markdown",
   "id": "5e3118e0",
   "metadata": {
    "id": "ge3I04qX2yJl"
   },
   "source": [
    "Here we use Neural network as the base model, the result is unlikely to be reimplemented, but similar result will come out.\n",
    "\n",
    "**Note: When few features are used in the model, the model and its prediction are unstable."
   ]
  },
  {
   "cell_type": "code",
   "execution_count": 44,
   "id": "0f0ad023",
   "metadata": {
    "colab": {
     "base_uri": "https://localhost:8080/"
    },
    "id": "OUALnfmSLCwE",
    "outputId": "1a41b687-adf0-41c1-e8cf-3f3d72bd690b"
   },
   "outputs": [
    {
     "name": "stdout",
     "output_type": "stream",
     "text": [
      "Epoch 1/10\n",
      "413/413 [==============================] - 0s 612us/step - loss: 0.7364 - binary_accuracy: 0.6027 - val_loss: 0.5753 - val_binary_accuracy: 0.7775\n",
      "Epoch 2/10\n",
      "413/413 [==============================] - 0s 436us/step - loss: 0.5112 - binary_accuracy: 0.8172 - val_loss: 0.4368 - val_binary_accuracy: 0.8662\n",
      "Epoch 3/10\n",
      "413/413 [==============================] - 0s 433us/step - loss: 0.4083 - binary_accuracy: 0.8663 - val_loss: 0.3637 - val_binary_accuracy: 0.8950\n",
      "Epoch 4/10\n",
      "413/413 [==============================] - 0s 433us/step - loss: 0.3493 - binary_accuracy: 0.8886 - val_loss: 0.3180 - val_binary_accuracy: 0.9025\n",
      "Epoch 5/10\n",
      "413/413 [==============================] - 0s 460us/step - loss: 0.3102 - binary_accuracy: 0.8988 - val_loss: 0.2866 - val_binary_accuracy: 0.9112\n",
      "Epoch 6/10\n",
      "413/413 [==============================] - 0s 470us/step - loss: 0.2822 - binary_accuracy: 0.9099 - val_loss: 0.2640 - val_binary_accuracy: 0.9125\n",
      "Epoch 7/10\n",
      "413/413 [==============================] - 0s 443us/step - loss: 0.2617 - binary_accuracy: 0.9138 - val_loss: 0.2473 - val_binary_accuracy: 0.9100\n",
      "Epoch 8/10\n",
      "413/413 [==============================] - 0s 443us/step - loss: 0.2459 - binary_accuracy: 0.9153 - val_loss: 0.2344 - val_binary_accuracy: 0.9150\n",
      "Epoch 9/10\n",
      "413/413 [==============================] - 0s 461us/step - loss: 0.2338 - binary_accuracy: 0.9169 - val_loss: 0.2240 - val_binary_accuracy: 0.9125\n",
      "Epoch 10/10\n",
      "413/413 [==============================] - 0s 446us/step - loss: 0.2243 - binary_accuracy: 0.9182 - val_loss: 0.2160 - val_binary_accuracy: 0.9162\n",
      "Epoch 1/10\n",
      "130/130 [==============================] - 0s 1ms/step - loss: 0.7918 - binary_accuracy: 0.3162 - val_loss: 0.7398 - val_binary_accuracy: 0.3075\n",
      "Epoch 2/10\n",
      "130/130 [==============================] - 0s 558us/step - loss: 0.7067 - binary_accuracy: 0.2724 - val_loss: 0.6779 - val_binary_accuracy: 0.2688\n",
      "Epoch 3/10\n",
      "130/130 [==============================] - 0s 547us/step - loss: 0.6566 - binary_accuracy: 0.2588 - val_loss: 0.6371 - val_binary_accuracy: 0.2475\n",
      "Epoch 4/10\n",
      "130/130 [==============================] - 0s 541us/step - loss: 0.6218 - binary_accuracy: 0.2450 - val_loss: 0.6074 - val_binary_accuracy: 0.2262\n",
      "Epoch 5/10\n",
      "130/130 [==============================] - 0s 546us/step - loss: 0.5955 - binary_accuracy: 0.2237 - val_loss: 0.5840 - val_binary_accuracy: 0.2087\n",
      "Epoch 6/10\n",
      "130/130 [==============================] - 0s 538us/step - loss: 0.5742 - binary_accuracy: 0.2061 - val_loss: 0.5646 - val_binary_accuracy: 0.2013\n",
      "Epoch 7/10\n",
      "130/130 [==============================] - 0s 539us/step - loss: 0.5561 - binary_accuracy: 0.1913 - val_loss: 0.5478 - val_binary_accuracy: 0.1875\n",
      "Epoch 8/10\n",
      "130/130 [==============================] - 0s 536us/step - loss: 0.5403 - binary_accuracy: 0.1797 - val_loss: 0.5328 - val_binary_accuracy: 0.1675\n",
      "Epoch 9/10\n",
      "130/130 [==============================] - 0s 535us/step - loss: 0.5259 - binary_accuracy: 0.1683 - val_loss: 0.5190 - val_binary_accuracy: 0.1612\n",
      "Epoch 10/10\n",
      "130/130 [==============================] - 0s 539us/step - loss: 0.5127 - binary_accuracy: 0.1603 - val_loss: 0.5063 - val_binary_accuracy: 0.1513\n",
      "Epoch 1/10\n",
      "130/130 [==============================] - 0s 1ms/step - loss: 1.8225 - binary_accuracy: 0.2379 - val_loss: 1.3918 - val_binary_accuracy: 0.3700\n",
      "Epoch 2/10\n",
      "130/130 [==============================] - 0s 619us/step - loss: 1.2097 - binary_accuracy: 0.4603 - val_loss: 1.0672 - val_binary_accuracy: 0.5088\n",
      "Epoch 3/10\n",
      "130/130 [==============================] - 0s 630us/step - loss: 0.9760 - binary_accuracy: 0.5722 - val_loss: 0.8959 - val_binary_accuracy: 0.5825\n",
      "Epoch 4/10\n",
      "130/130 [==============================] - 0s 640us/step - loss: 0.8356 - binary_accuracy: 0.6320 - val_loss: 0.7797 - val_binary_accuracy: 0.6338\n",
      "Epoch 5/10\n",
      "130/130 [==============================] - 0s 620us/step - loss: 0.7345 - binary_accuracy: 0.6712 - val_loss: 0.6917 - val_binary_accuracy: 0.6787\n",
      "Epoch 6/10\n",
      "130/130 [==============================] - 0s 621us/step - loss: 0.6558 - binary_accuracy: 0.6978 - val_loss: 0.6212 - val_binary_accuracy: 0.7100\n",
      "Epoch 7/10\n",
      "130/130 [==============================] - 0s 628us/step - loss: 0.5918 - binary_accuracy: 0.7262 - val_loss: 0.5632 - val_binary_accuracy: 0.7362\n",
      "Epoch 8/10\n",
      "130/130 [==============================] - 0s 615us/step - loss: 0.5384 - binary_accuracy: 0.7479 - val_loss: 0.5143 - val_binary_accuracy: 0.7550\n",
      "Epoch 9/10\n",
      "130/130 [==============================] - 0s 615us/step - loss: 0.4932 - binary_accuracy: 0.7656 - val_loss: 0.4726 - val_binary_accuracy: 0.7738\n",
      "Epoch 10/10\n",
      "130/130 [==============================] - 0s 617us/step - loss: 0.4544 - binary_accuracy: 0.7828 - val_loss: 0.4365 - val_binary_accuracy: 0.7925\n",
      "Epoch 1/10\n",
      "130/130 [==============================] - 0s 1ms/step - loss: 1.4395 - binary_accuracy: 0.8327 - val_loss: 0.9890 - val_binary_accuracy: 0.8512\n",
      "Epoch 2/10\n",
      "130/130 [==============================] - 0s 568us/step - loss: 0.8307 - binary_accuracy: 0.7961 - val_loss: 0.7128 - val_binary_accuracy: 0.7375\n",
      "Epoch 3/10\n",
      "130/130 [==============================] - 0s 560us/step - loss: 0.6434 - binary_accuracy: 0.6821 - val_loss: 0.5847 - val_binary_accuracy: 0.6313\n",
      "Epoch 4/10\n",
      "130/130 [==============================] - 0s 563us/step - loss: 0.5436 - binary_accuracy: 0.5971 - val_loss: 0.5068 - val_binary_accuracy: 0.5813\n",
      "Epoch 5/10\n",
      "130/130 [==============================] - 0s 555us/step - loss: 0.4788 - binary_accuracy: 0.5516 - val_loss: 0.4528 - val_binary_accuracy: 0.5512\n",
      "Epoch 6/10\n",
      "130/130 [==============================] - 0s 567us/step - loss: 0.4320 - binary_accuracy: 0.5247 - val_loss: 0.4123 - val_binary_accuracy: 0.5225\n",
      "Epoch 7/10\n",
      "130/130 [==============================] - 0s 587us/step - loss: 0.3959 - binary_accuracy: 0.4988 - val_loss: 0.3801 - val_binary_accuracy: 0.5063\n",
      "Epoch 8/10\n",
      "130/130 [==============================] - 0s 581us/step - loss: 0.3667 - binary_accuracy: 0.4840 - val_loss: 0.3538 - val_binary_accuracy: 0.4913\n",
      "Epoch 9/10\n",
      "130/130 [==============================] - 0s 547us/step - loss: 0.3425 - binary_accuracy: 0.4668 - val_loss: 0.3316 - val_binary_accuracy: 0.4800\n",
      "Epoch 10/10\n",
      "130/130 [==============================] - 0s 557us/step - loss: 0.3219 - binary_accuracy: 0.4559 - val_loss: 0.3125 - val_binary_accuracy: 0.4762\n",
      "Epoch 1/10\n",
      "130/130 [==============================] - 0s 1ms/step - loss: 1.9867 - binary_accuracy: 0.5909 - val_loss: 1.0620 - val_binary_accuracy: 0.7450\n",
      "Epoch 2/10\n",
      "130/130 [==============================] - 0s 576us/step - loss: 0.8076 - binary_accuracy: 0.7639 - val_loss: 0.6299 - val_binary_accuracy: 0.7925\n",
      "Epoch 3/10\n",
      "130/130 [==============================] - 0s 583us/step - loss: 0.5381 - binary_accuracy: 0.7981 - val_loss: 0.4650 - val_binary_accuracy: 0.8175\n",
      "Epoch 4/10\n",
      "130/130 [==============================] - 0s 586us/step - loss: 0.4189 - binary_accuracy: 0.8232 - val_loss: 0.3792 - val_binary_accuracy: 0.8400\n",
      "Epoch 5/10\n",
      "130/130 [==============================] - 0s 569us/step - loss: 0.3508 - binary_accuracy: 0.8361 - val_loss: 0.3252 - val_binary_accuracy: 0.8525\n",
      "Epoch 6/10\n",
      "130/130 [==============================] - 0s 574us/step - loss: 0.3056 - binary_accuracy: 0.8378 - val_loss: 0.2874 - val_binary_accuracy: 0.8550\n",
      "Epoch 7/10\n",
      "130/130 [==============================] - 0s 579us/step - loss: 0.2729 - binary_accuracy: 0.8366 - val_loss: 0.2592 - val_binary_accuracy: 0.8562\n",
      "Epoch 8/10\n",
      "130/130 [==============================] - 0s 571us/step - loss: 0.2479 - binary_accuracy: 0.8354 - val_loss: 0.2370 - val_binary_accuracy: 0.8537\n",
      "Epoch 9/10\n",
      "130/130 [==============================] - 0s 576us/step - loss: 0.2279 - binary_accuracy: 0.8334 - val_loss: 0.2191 - val_binary_accuracy: 0.8487\n",
      "Epoch 10/10\n",
      "130/130 [==============================] - 0s 555us/step - loss: 0.2116 - binary_accuracy: 0.8344 - val_loss: 0.2042 - val_binary_accuracy: 0.8475\n"
     ]
    }
   ],
   "source": [
    "#########################[DON'T RUN THIS CELL IF UNNECESSARY]#########################\n",
    "\n",
    "## initialization\n",
    "np.random.seed(7777) \n",
    "model =  base_nn_model(X_train, y_train, X_val, y_val)\n",
    "\n",
    "#initialized C and delta\n",
    "C = 1\n",
    "delta = 0.2\n",
    "iter = 20\n",
    "\n",
    "# new training groups\n",
    "X_ts, y_ts, X_tp, y_tp, dn, dp = new_training_groups(model, X_train, y_train)\n",
    "feature = Input(X_train.shape[1],)\n",
    "y = Dense(2,\"softmax\")(feature)\n",
    "mod_loop = Model(feature,y)\n",
    "adam = tf.keras.optimizers.Adam(0.001)\n",
    "loss = keras.losses.BinaryCrossentropy(from_logits=True)\n",
    "metric = [tf.keras.metrics.BinaryAccuracy()]\n",
    "\n",
    "def penal_loss(y_true,y_pred):\n",
    "  return loss(tf.one_hot(y_tp,2), mod_loop(X_tp))\n",
    "\n",
    "def clean_loss(y_true,y_pred):  \n",
    "  return loss(tf.one_hot(y_ts,2), mod_loop(X_ts))\n",
    "\n",
    "count = 0\n",
    "# start while loop\n",
    "while (count==0 or count%2==1 or abs(dp)>0.05) and count<iter: \n",
    "    # or examine dn, here count%2==1 used to control accuracy in case the accuracy is below 0.5 and one of the overall fpr/fnr will be close to 1\n",
    "    C = C+delta\n",
    "    #print('Count:%d'%count)\n",
    "    mod_loop.compile(optimizer=adam,loss=[penal_loss, clean_loss],loss_weights=[C,1],metrics=metric)\n",
    "    mod_loop.fit(X_train, tf.one_hot(y_train,2), epochs=10, validation_data=(X_val,tf.one_hot(y_val,2)))\n",
    "    X_ts, y_ts, X_tp, y_tp, dn, dp = new_training_groups(mod_loop, X_train, y_train)\n",
    "    #dp = DFR(model_in_loop,X_test,y_test,'dfpr')\n",
    "    count+=1"
   ]
  },
  {
   "cell_type": "code",
   "execution_count": 45,
   "id": "8e87de3a",
   "metadata": {
    "colab": {
     "base_uri": "https://localhost:8080/"
    },
    "id": "WStZGDfzefQk",
    "outputId": "90dce3ec-dab5-47b0-81c4-aee5cddb8648"
   },
   "outputs": [
    {
     "name": "stdout",
     "output_type": "stream",
     "text": [
      "(-0.09224260391575567, 0.07008957429125497)\n",
      "25/25 [==============================] - 0s 393us/step - loss: 0.2042 - binary_accuracy: 0.8363\n",
      "\n",
      " ################################################################################\n",
      "The accuracy of baseline model NN is: 0.836250.\n",
      "The False Positive Rate for overall population is: 0.057554.\n",
      "The False Negative Rate for overall population is: 0.279373.\n",
      "Specifically:\n",
      "Parity Check: The rate of positive estimate for African American and Caucasian are 0.445607 and 0.270186, and D_par=0.175420.\n",
      "Calibration Check: The rate of correct estimate for African American and Caucasian are 0.824268 and 0.854037, and D_cal=-0.029769.\n",
      "The False Positive Rate for African American and Caucasian are 0.090498 and 0.020408, and D_FPR=0.070090.\n",
      "The False Negative Rate for African American and Caucasian are 0.249027 and 0.341270, and D_FNR=-0.092243.\n",
      "\n",
      " ################################################################################\n"
     ]
    }
   ],
   "source": [
    "#Evaluation\n",
    "print(DFR(mod_loop,X_test,y_test,type='both'))\n",
    "evaluation(mod_loop,X_test,y_test)"
   ]
  },
  {
   "cell_type": "code",
   "execution_count": 46,
   "id": "6df4e556",
   "metadata": {
    "id": "5dLHriKnrKIr"
   },
   "outputs": [],
   "source": [
    "####################################################################################################################################\n",
    "####################### IF NEED TO MODIFY CODES, USE THIS CHUNK TO RUN ABOVE OR RUN BELOW ##########################################\n",
    "####################################################################################################################################"
   ]
  },
  {
   "cell_type": "markdown",
   "id": "566da1d3",
   "metadata": {
    "id": "DxdmajarNgms"
   },
   "source": [
    "## Fairness Beyond Disparate Treatment & Disparate Impact: Learning Classification without Disparate Mistreatment ($DM_{sen}$ & $DM$)"
   ]
  },
  {
   "cell_type": "markdown",
   "id": "7dd66fc6",
   "metadata": {
    "id": "idcynX6VBaSu"
   },
   "source": [
    "We first implement $DM_{sen}$ as we won't do anything to the dataset:"
   ]
  },
  {
   "cell_type": "code",
   "execution_count": 67,
   "id": "435a4ebc",
   "metadata": {
    "colab": {
     "base_uri": "https://localhost:8080/"
    },
    "id": "HQIJDMSy164k",
    "outputId": "3bc394f9-85bd-4515-ef1a-323ef15dbce0"
   },
   "outputs": [
    {
     "name": "stdout",
     "output_type": "stream",
     "text": [
      "\n",
      " ################################################################################ \n",
      "                       Split up Train-Test sets  \n",
      " ################################################################################ \n",
      "\n",
      " X_train size:  (4584, 16) ,      y_train size:  (4584,) \n",
      " X_test size:  (1146, 16) ,       y_test size:  (1146,)\n",
      " X_train_AA size:  (2745, 16) ,   X_train_C size:  (1839, 16) \n",
      " X_test_AA size:  (688, 16) ,     X_test_C size:  (458, 16) \n",
      " Ratio: 1.4926590538336053 1.502183406113537\n",
      "\n",
      " ################################################################################\n"
     ]
    }
   ],
   "source": [
    "#Use 4:1 as the ratio of train:test\n",
    "y = data.two_year_recid\n",
    "y = np.asarray(y).astype('float32')\n",
    "\n",
    "X_train, X_test, y_train, y_test = train_test_split(X, y, test_size=0.2, random_state=0)\n",
    "train_size = len(y_train)\n",
    "train_idx_AA = np.array(range(train_size))[X_train[:,1]==0.0]\n",
    "train_idx_C = np.array(range(train_size))[X_train[:,1]==1.0]\n",
    "test_size = len(y_test)\n",
    "test_idx_AA = np.array(range(test_size))[X_test[:,1]==0.0]\n",
    "test_idx_C = np.array(range(test_size))[X_test[:,1]==1.0]\n",
    "\n",
    "\n",
    "# For A6\n",
    "X_train_df, X_test_df, y_train_df, y_test_df = train_test_split(X_df, y_df, test_size=0.2, random_state=0)\n",
    "\n",
    "# For A6\n",
    "X_train_df.race = abs(X_train_df.race-1)\n",
    "X_test_df.race = abs(X_test_df.race-1)\n",
    "X_val_df.race = abs(X_val_df.race-1)\n",
    "X_train_df.c_charge_degree = abs(X_train_df.c_charge_degree-1)\n",
    "X_test_df.c_charge_degree = abs(X_test_df.c_charge_degree-1)\n",
    "X_val_df.c_charge_degree = abs(X_val_df.c_charge_degree-1)\n",
    "train = pd.concat([X_train_df.reset_index(drop=True), y_train_df.reset_index(drop=True)], axis = 1)\n",
    "test = pd.concat([X_test_df.reset_index(drop=True), y_test_df.reset_index(drop=True)], axis = 1)\n",
    "\n",
    "X_train1 = np.hstack((np.ones(X_train.shape[0]).reshape(X_train.shape[0],1), X_train))\n",
    "X_train1_AA = X_train1[train_idx_AA]\n",
    "X_train1_C = X_train1[train_idx_C]\n",
    "y_train_AA = y_train[train_idx_AA]\n",
    "y_train_C = y_train[train_idx_C]\n",
    "X_test1 = np.hstack((np.ones(X_test.shape[0]).reshape(X_test.shape[0],1), X_test))\n",
    "X_test1_AA = X_test1[test_idx_AA]\n",
    "X_test1_C = X_test1[test_idx_C]\n",
    "y_test_AA = y_test[test_idx_AA]\n",
    "y_test_C = y_test[test_idx_C]\n",
    "\n",
    "print('\\n',\"#\"*80,'\\n',' '*20,\" Split up Train-Test sets \",'\\n',\"#\"*80,'\\n')\n",
    "print(\" X_train size: \", X_train1.shape, \",      y_train size: \", y_train.shape, '\\n',\n",
    "      \"X_test size: \", X_test1.shape, ',       y_test size: ',y_test.shape)\n",
    "print(\" X_train_AA size: \", X_train1[train_idx_AA].shape, \",   X_train_C size: \", X_train1[train_idx_C].shape, '\\n',\n",
    "      \"X_test_AA size: \", X_test1[test_idx_AA].shape, ',     X_test_C size: ',X_test1[test_idx_C].shape, '\\n',\n",
    "      \"Ratio:\", X_train1[train_idx_AA].shape[0]/X_train1[train_idx_C].shape[0],X_test1[test_idx_AA].shape[0]/X_test1[test_idx_C].shape[0])\n",
    "print('\\n',\"#\"*80)"
   ]
  },
  {
   "cell_type": "markdown",
   "id": "9a7ad59b",
   "metadata": {
    "id": "cLJDK5Ys0M3c"
   },
   "source": [
    "### Custom Loss: Add Constraints"
   ]
  },
  {
   "cell_type": "markdown",
   "id": "7e115ad8",
   "metadata": {
    "id": "raHMVMyr0Gsg"
   },
   "source": [
    "From the paper, loss function is modified in logistic regression:"
   ]
  },
  {
   "cell_type": "code",
   "execution_count": 50,
   "id": "6f45efcf",
   "metadata": {
    "id": "o4W8A43KqgwG"
   },
   "outputs": [
    {
     "ename": "ModuleNotFoundError",
     "evalue": "No module named 'dccp'",
     "output_type": "error",
     "traceback": [
      "\u001b[0;31m---------------------------------------------------------------------------\u001b[0m",
      "\u001b[0;31mModuleNotFoundError\u001b[0m                       Traceback (most recent call last)",
      "Input \u001b[0;32mIn [50]\u001b[0m, in \u001b[0;36m<cell line: 1>\u001b[0;34m()\u001b[0m\n\u001b[0;32m----> 1\u001b[0m \u001b[38;5;28;01mimport\u001b[39;00m \u001b[38;5;21;01mdccp\u001b[39;00m\n\u001b[1;32m      2\u001b[0m \u001b[38;5;28;01mimport\u001b[39;00m \u001b[38;5;21;01mcvxpy\u001b[39;00m \u001b[38;5;28;01mas\u001b[39;00m \u001b[38;5;21;01mcvx\u001b[39;00m\n\u001b[1;32m      3\u001b[0m \u001b[38;5;28;01mfrom\u001b[39;00m \u001b[38;5;21;01mcvxpy\u001b[39;00m \u001b[38;5;28;01mimport\u001b[39;00m \u001b[38;5;241m*\u001b[39m\n",
      "\u001b[0;31mModuleNotFoundError\u001b[0m: No module named 'dccp'"
     ]
    }
   ],
   "source": [
    "import dccp\n",
    "import cvxpy as cvx\n",
    "from cvxpy import *"
   ]
  },
  {
   "cell_type": "code",
   "execution_count": 51,
   "id": "6f1ae77d",
   "metadata": {
    "colab": {
     "base_uri": "https://localhost:8080/"
    },
    "id": "9O9LwGH3lvpz",
    "outputId": "7d84de9e-9219-465c-cb95-83e8bcec68df"
   },
   "outputs": [
    {
     "ename": "NameError",
     "evalue": "name 'cvx' is not defined",
     "output_type": "error",
     "traceback": [
      "\u001b[0;31m---------------------------------------------------------------------------\u001b[0m",
      "\u001b[0;31mNameError\u001b[0m                                 Traceback (most recent call last)",
      "Input \u001b[0;32mIn [51]\u001b[0m, in \u001b[0;36m<cell line: 9>\u001b[0;34m()\u001b[0m\n\u001b[1;32m      5\u001b[0m     \u001b[38;5;28;01mreturn\u001b[39;00m log_loss\n\u001b[1;32m      8\u001b[0m np\u001b[38;5;241m.\u001b[39mrandom\u001b[38;5;241m.\u001b[39mseed(\u001b[38;5;241m5243\u001b[39m)\n\u001b[0;32m----> 9\u001b[0m theta \u001b[38;5;241m=\u001b[39m \u001b[43mcvx\u001b[49m\u001b[38;5;241m.\u001b[39mVariable(X_train1\u001b[38;5;241m.\u001b[39mshape[\u001b[38;5;241m1\u001b[39m])\n\u001b[1;32m     10\u001b[0m theta\u001b[38;5;241m.\u001b[39mvalue \u001b[38;5;241m=\u001b[39m np\u001b[38;5;241m.\u001b[39mrandom\u001b[38;5;241m.\u001b[39mrand(theta\u001b[38;5;241m.\u001b[39mshape[\u001b[38;5;241m0\u001b[39m])\n\u001b[1;32m     12\u001b[0m tau, mu, EPS \u001b[38;5;241m=\u001b[39m \u001b[38;5;241m0.005\u001b[39m, \u001b[38;5;241m1.5\u001b[39m, \u001b[38;5;241m1\u001b[39m \n",
      "\u001b[0;31mNameError\u001b[0m: name 'cvx' is not defined"
     ]
    }
   ],
   "source": [
    "def lossfunc(X,theta,y_true):\n",
    "    # This function returns the log loss.\n",
    "    y_true= 2*y_true - 1 #{0,1}->{-1,1}\n",
    "    log_loss = sum(logistic(multiply(-y_true, X*theta)))\n",
    "    return log_loss\n",
    "\n",
    "\n",
    "np.random.seed(5243)\n",
    "theta = cvx.Variable(X_train1.shape[1])\n",
    "theta.value = np.random.rand(theta.shape[0])\n",
    "\n",
    "tau, mu, EPS = 0.005, 1.5, 1 \n",
    "Prob1 = cvx.Problem(Minimize(lossfunc(X_train1,theta,y_train)),[]) # No constraints\n",
    "             \n",
    "      \n",
    "print(dccp.is_dccp(Prob1))\n",
    "print(theta.value)\n",
    "#[0.5591043  0.9994264  0.57031546 0.43833912 0.08453454 0.05043884\n",
    "# 0.91119515 0.16423428 0.3034639  0.41950956 0.85237613 0.4244003\n",
    "# 0.96147514 0.26277008 0.02849745 0.61075812]\n",
    "result = Prob1.solve(method='dccp', tau=tau, mu=mu, tau_max=1e10, verbose=True) #Here changes the theta.value, result avoids the output\n",
    "print(theta.value)\n",
    "#[-2.22198860e+00  1.75116119e-01  1.31373607e-01 -2.60536345e-01 1.53575511e+00  4.91247336e+00 \n",
    "# -2.60491152e-01  4.36237090e-03  4.13966295e-01  7.39736815e-02  1.01397507e-01  2.79119037e-01\n",
    "# -6.37340155e-02  3.96745359e-02  6.88413345e-02 -2.27307636e+00]"
   ]
  },
  {
   "cell_type": "code",
   "execution_count": null,
   "id": "06055b78",
   "metadata": {
    "id": "tPl_LD06m2BN"
   },
   "outputs": [],
   "source": [
    "def predict(X,theta):\n",
    "    #y:{-1,1}->{0,1}\n",
    "    d = np.dot(X,theta)\n",
    "    y_pred = (np.sign(d) + 1)/2\n",
    "    return y_pred\n",
    "\n",
    "theta_star = theta.value\n",
    "y_pred = predict(X_test1, theta_star)"
   ]
  },
  {
   "cell_type": "code",
   "execution_count": null,
   "id": "37233b36",
   "metadata": {
    "colab": {
     "base_uri": "https://localhost:8080/"
    },
    "id": "dpNPZC-3nYhS",
    "outputId": "1b8016e0-67ea-4732-eb81-033318a21537"
   },
   "outputs": [
    {
     "name": "stdout",
     "output_type": "stream",
     "text": [
      "\n",
      " ################################################################################\n",
      "The accuracy of baseline model LR is: 0.924084.\n",
      "The False Positive Rate for overall population is: 0.084956.\n",
      "The False Negative Rate for overall population is: 0.067126.\n",
      "Specifically:\n",
      "Parity Check: The rate of positive estimate for African American and Caucasian are 0.423729 and 0.538462, and D_par=-0.114733.\n",
      "Calibration Check: The rate of correct estimate for African American and Caucasian are 0.932203 and 0.921978, and D_cal=0.010225.\n",
      "The False Positive Rate for African American and Caucasian are 0.077465 and 0.087470, and D_FPR=-0.010006.\n",
      "The False Negative Rate for African American and Caucasian are 0.053191 and 0.069815, and D_FNR=-0.016624.\n",
      "\n",
      " ################################################################################\n"
     ]
    }
   ],
   "source": [
    "def evaluation_DM(X,y,y_pred):\n",
    "    size = X.shape[0]\n",
    "    idx_AA = np.array(range(size))[X[:,1]==0.0]\n",
    "    idx_C = np.array(range(size))[X[:,1]==1.0]\n",
    "    y_pred_AA, y_test_AA = y_pred[idx_AA], y[idx_AA]\n",
    "    y_pred_C, y_test_C = y_pred[idx_C], y[idx_C]\n",
    "    FPR_all = np.sum(y_pred[y==0]==1)/len(y[y==0])\n",
    "    FNR_all = np.sum(y_pred[y==1]==0)/len(y[y==1])\n",
    "    FPR_AA = np.sum(y_pred_AA[y_test_AA==0]==1)/len(y_test_AA[y_test_AA==0])\n",
    "    FNR_AA = np.sum(y_pred_AA[y_test_AA==1]==0)/len(y_test_AA[y_test_AA==1])\n",
    "    FPR_C = np.sum(y_pred_C[y_test_C==0]==1)/len(y_test_C[y_test_C==0])\n",
    "    FNR_C = np.sum(y_pred_C[y_test_C==1]==0)/len(y_test_C[y_test_C==1])\n",
    "    pred_p_AA, pred_p_C = np.mean(y_pred_AA==1), np.mean(y_pred_C==1)\n",
    "    acc = np.sum(y_pred == y)/len(y)\n",
    "    acc_AA, acc_C = np.mean(y_pred_AA == y_test_AA), np.mean(y_pred_C == y_test_C)\n",
    "    print('\\n',\"#\"*80)\n",
    "    print('The accuracy of baseline model LR is: %3f.'%(acc))\n",
    "    print('The False Positive Rate for overall population is: %3f.'%FPR_all)\n",
    "    print('The False Negative Rate for overall population is: %3f.'%FNR_all)\n",
    "    print(\"Specifically:\")\n",
    "    print('Parity Check: The rate of positive estimate for African American and Caucasian are %3f and %3f, and D_par=%3f.'%(pred_p_AA,pred_p_C,pred_p_AA-pred_p_C))\n",
    "    print('Calibration Check: The rate of correct estimate for African American and Caucasian are %3f and %3f, and D_cal=%3f.'%(acc_AA,acc_C,acc_AA-acc_C))\n",
    "    print('The False Positive Rate for African American and Caucasian are %3f and %3f, and D_FPR=%3f.'%(FPR_AA,FPR_C,FPR_AA-FPR_C))\n",
    "    print('The False Negative Rate for African American and Caucasian are %3f and %3f, and D_FNR=%3f.'%(FNR_AA,FNR_C,FNR_AA-FNR_C))\n",
    "    print('\\n',\"#\"*80)\n",
    "#print(y_pred.shape)\n",
    "evaluation_DM(X_test1,y_test,y_pred)"
   ]
  },
  {
   "cell_type": "markdown",
   "id": "c9ab475b",
   "metadata": {
    "id": "gIjSM7mcsOY5"
   },
   "source": [
    "If we do not put constaints on the loss function, the accuracy of the logistic regression model is around $93\\%$, while the FPR, FNR is around 0.05 to 0.1. \n",
    "\n",
    "Then, we put the constraint in the following model:"
   ]
  },
  {
   "cell_type": "code",
   "execution_count": null,
   "id": "113da8c3",
   "metadata": {
    "colab": {
     "base_uri": "https://localhost:8080/"
    },
    "id": "0_9JaBPrsNhr",
    "outputId": "f7ff2a43-41c4-4a01-e0cb-976fd00e4ba8"
   },
   "outputs": [
    {
     "name": "stdout",
     "output_type": "stream",
     "text": [
      "4584 2745 1839\n",
      "True\n"
     ]
    }
   ],
   "source": [
    "# Constaints on loss function\n",
    "np.random.seed(5243)\n",
    "theta1 = cvx.Variable(X_train1.shape[1])\n",
    "theta1.value = np.random.rand(theta.shape[0])\n",
    "\n",
    "tau, mu, EPS = 0.5, 1.6, 1e-4 \n",
    "\n",
    "def g_theta(y,X,theta):\n",
    "    y = 2*y - 1\n",
    "    d = matmul(X,theta)\n",
    "    y_d = multiply(y,d)\n",
    "    return minimum(np.zeros_like(y_d),y_d)\n",
    "\n",
    "c = 0.05\n",
    "N0 = X_train1_AA.shape[0]\n",
    "N1 = X_train1_C.shape[0]\n",
    "N = X_train1.shape[0]\n",
    "print(N,N0,N1)\n",
    "\n",
    "\n",
    "Prob2 = cvx.Problem(Minimize(lossfunc(X_train1,theta1,y_train)),\n",
    "                 [N0/N*sum(g_theta(y_train_C,X_train1_C,theta1)) <= c + N1/N*sum(g_theta(y_train_AA, X_train1_AA,theta1)), \n",
    "                  N0/N*sum(g_theta(y_train_C,X_train1_C,theta1)) >= N1/N*sum(g_theta(y_train_AA, X_train1_AA,theta1)) - c]) # With constraints\n",
    "print(dccp.is_dccp(Prob2))\n",
    "result1 = Prob2.solve(method='dccp', tau=tau, mu=mu, tau_max=1e10, verbose=True)\n",
    "#g_theta(y_train,X_train1, theta.value).value.shape\n",
    "#constraint()\n",
    "#X_train.\n",
    "#pd.DataFrame(X_train)\n",
    "#pd.DataFrame(x_train1)"
   ]
  },
  {
   "cell_type": "code",
   "execution_count": null,
   "id": "ce3a533c",
   "metadata": {
    "colab": {
     "base_uri": "https://localhost:8080/"
    },
    "id": "e1g7epK30aT2",
    "outputId": "a1a78ae3-d68d-4c6e-db4b-2e16915000cf"
   },
   "outputs": [
    {
     "name": "stdout",
     "output_type": "stream",
     "text": [
      "\n",
      " ################################################################################\n",
      "The accuracy of baseline model LR is: 0.924084.\n",
      "The False Positive Rate for overall population is: 0.088496.\n",
      "The False Negative Rate for overall population is: 0.063683.\n",
      "Specifically:\n",
      "Parity Check: The rate of positive estimate for African American and Caucasian are 0.427966 and 0.541758, and D_par=-0.113792.\n",
      "Calibration Check: The rate of correct estimate for African American and Caucasian are 0.927966 and 0.923077, and D_cal=0.004889.\n",
      "The False Positive Rate for African American and Caucasian are 0.084507 and 0.089835, and D_FPR=-0.005327.\n",
      "The False Negative Rate for African American and Caucasian are 0.053191 and 0.065708, and D_FNR=-0.012517.\n",
      "\n",
      " ################################################################################\n"
     ]
    }
   ],
   "source": [
    "y_pred1 = predict(X_test1, theta1.value)\n",
    "evaluation_DM(X_test1,y_test,y_pred1)"
   ]
  },
  {
   "cell_type": "markdown",
   "id": "8ff637f5",
   "metadata": {
    "id": "dFSvGNJHRban"
   },
   "source": [
    "From above result, we may see the $DM_{sen}$ algorithm slightly drops the $D_{FNR}$ to around -0.015, which is very close to $D_{FPR}$. \n",
    "\n",
    "Then we implement $DM$:"
   ]
  },
  {
   "cell_type": "code",
   "execution_count": null,
   "id": "dc59db0e",
   "metadata": {
    "colab": {
     "base_uri": "https://localhost:8080/"
    },
    "id": "TdzBsm2yewlI",
    "outputId": "27a37aec-3f32-4deb-e25a-2aba5e54b077"
   },
   "outputs": [
    {
     "name": "stdout",
     "output_type": "stream",
     "text": [
      "\n",
      " ################################################################################ \n",
      "                       Split up Train-Test sets  \n",
      " ################################################################################ \n",
      "\n",
      " X_train1_sen size:  (4584, 15) ,      y_train size:  (4584,) \n",
      " X_test1_sen size:  (1146, 15) ,       y_test size:  (1146,)\n",
      " X_train1_AA_sen size:  (2745, 15) ,   X_train1_C_sen size:  (1839, 15) \n",
      " X_test1_AA_sen size:  (688, 15) ,     X_test1_C_sen size:  (458, 15) \n",
      " Ratio: 1.4926590538336053 1.502183406113537\n",
      "\n",
      " ################################################################################\n"
     ]
    }
   ],
   "source": [
    "X_train1_sen = np.delete(X_train1,2,1)\n",
    "X_train1_AA_sen = X_train1_sen[train_idx_AA]\n",
    "X_train1_C_sen = X_train1_sen[train_idx_C]\n",
    "X_test1_sen = np.delete(X_test1,2,1)\n",
    "X_test1_AA_sen = X_test1_sen[test_idx_AA]\n",
    "X_test1_C_sen = X_test1_sen[test_idx_C]\n",
    "\n",
    "print('\\n',\"#\"*80,'\\n',' '*20,\" Split up Train-Test sets \",'\\n',\"#\"*80,'\\n')\n",
    "print(\" X_train1_sen size: \", X_train1_sen.shape, \",      y_train size: \", y_train.shape, '\\n',\n",
    "      \"X_test1_sen size: \", X_test1_sen.shape, ',       y_test size: ',y_test.shape)\n",
    "print(\" X_train1_AA_sen size: \", X_train1_AA_sen.shape, \",   X_train1_C_sen size: \", X_train1_C_sen.shape, '\\n',\n",
    "      \"X_test1_AA_sen size: \", X_test1_AA_sen.shape, ',     X_test1_C_sen size: ',X_test1_C_sen.shape, '\\n',\n",
    "      \"Ratio:\", X_train1_AA_sen.shape[0]/X_train1_C_sen.shape[0],X_test1_AA_sen.shape[0]/X_test1_C_sen.shape[0])\n",
    "print('\\n',\"#\"*80)"
   ]
  },
  {
   "cell_type": "code",
   "execution_count": null,
   "id": "ed5d3b11",
   "metadata": {
    "colab": {
     "base_uri": "https://localhost:8080/"
    },
    "id": "U4JivYlwa3Dr",
    "outputId": "2ad5082a-fb14-479d-f373-1c32967d94ec"
   },
   "outputs": [
    {
     "name": "stdout",
     "output_type": "stream",
     "text": [
      "4584 2745 1839\n",
      "True\n"
     ]
    }
   ],
   "source": [
    "# Constaints on loss function\n",
    "np.random.seed(5243)\n",
    "theta2 = cvx.Variable(X_train1_sen.shape[1])\n",
    "theta2.value = np.random.rand(theta2.shape[0])\n",
    "\n",
    "tau, mu, EPS = 0.5, 1.6, 1e-4 \n",
    "c = 0.05\n",
    "N0 = X_train1_AA_sen.shape[0]\n",
    "N1 = X_train1_C_sen.shape[0]\n",
    "N = X_train1_sen.shape[0]\n",
    "print(N,N0,N1)\n",
    "\n",
    "\n",
    "Prob2 = cvx.Problem(Minimize(lossfunc(X_train1_sen,theta2,y_train)),\n",
    "                 [N0/N*sum(g_theta(y_train_C,X_train1_C_sen,theta2)) <= c + N1/N*sum(g_theta(y_train_AA,X_train1_AA_sen,theta2)), \n",
    "                  N0/N*sum(g_theta(y_train_C,X_train1_C_sen,theta2)) >= N1/N*sum(g_theta(y_train_AA,X_train1_AA_sen,theta2)) - c]) # With constraints\n",
    "print(dccp.is_dccp(Prob2))\n",
    "result1 = Prob2.solve(method='dccp', tau=tau, mu=mu, tau_max=1e10, verbose=True)"
   ]
  },
  {
   "cell_type": "code",
   "execution_count": null,
   "id": "46551595",
   "metadata": {
    "colab": {
     "base_uri": "https://localhost:8080/"
    },
    "id": "S0sU93opf_Pr",
    "outputId": "5d39a29e-c77e-4019-bd4b-41f089a0d396"
   },
   "outputs": [
    {
     "name": "stdout",
     "output_type": "stream",
     "text": [
      "\n",
      " ################################################################################\n",
      "The accuracy of baseline model LR is: 0.925829.\n",
      "The False Positive Rate for overall population is: 0.084956.\n",
      "The False Negative Rate for overall population is: 0.063683.\n",
      "Specifically:\n",
      "Parity Check: The rate of positive estimate for African American and Caucasian are 0.423729 and 0.540659, and D_par=-0.116931.\n",
      "Calibration Check: The rate of correct estimate for African American and Caucasian are 0.932203 and 0.924176, and D_cal=0.008028.\n",
      "The False Positive Rate for African American and Caucasian are 0.077465 and 0.087470, and D_FPR=-0.010006.\n",
      "The False Negative Rate for African American and Caucasian are 0.053191 and 0.065708, and D_FNR=-0.012517.\n",
      "\n",
      " ################################################################################\n"
     ]
    }
   ],
   "source": [
    "y_pred2 = predict(X_test1_sen, theta2.value)\n",
    "evaluation_DM(X_test1_sen,y_test,y_pred2)"
   ]
  },
  {
   "cell_type": "code",
   "execution_count": null,
   "id": "40fcca76",
   "metadata": {
    "colab": {
     "base_uri": "https://localhost:8080/"
    },
    "id": "UEvRcabGJbl4",
    "outputId": "641e24af-b610-4605-a86d-b6175c1213d6"
   },
   "outputs": [
    {
     "name": "stdout",
     "output_type": "stream",
     "text": [
      "The running time of overall algorithm is: 642.106358s.\n"
     ]
    }
   ],
   "source": [
    "end = time.time()\n",
    "print('The running time of overall algorithm is: %3fs.'%(end-start))"
   ]
  },
  {
   "cell_type": "markdown",
   "id": "afc1b171",
   "metadata": {
    "id": "PJzteiF3gNRP"
   },
   "source": [
    "We may see $DM$ algorithm drops $D_{FNR}$. but from the above results, it's hard for us to see which one is perfect and how $DM_{sen}$ violates the disparate treatment. Overall speaking, this algorithm has an impact on controlling the difference in FPR and FNR, but the effect deserves further study as when few features are in the model, both two algorithms seem to have no effect on controlling our target."
   ]
  },
  {
   "cell_type": "markdown",
   "id": "1b70fcfb",
   "metadata": {},
   "source": [
    "# 3. A6"
   ]
  },
  {
   "cell_type": "code",
   "execution_count": 68,
   "id": "f2233387",
   "metadata": {},
   "outputs": [],
   "source": [
    "# X_ALL = all predictors, S = sensitive attributes, E = explanatory attribute, Y = response\n",
    "S = \"race\"\n",
    "E = \"c_charge_degree\"\n",
    "Y = \"two_year_recid\"\n",
    "\n",
    "X_ALL = ['age', 'juv_fel_count', 'decile_score', 'juv_misd_count', \n",
    "         'juv_other_count', 'priors_count', 'c_days_from_compas', 'los', 'custody', 'lasts',\n",
    "         'sex', 'race', 'c_charge_degree', 'is_violent_recid', 'event']\n",
    "\n",
    "X_train = train[X_ALL]\n",
    "y_train = train[Y]\n",
    "\n",
    "X_test = test[X_ALL]\n",
    "y_test = test[Y]"
   ]
  },
  {
   "cell_type": "markdown",
   "id": "b98865c8",
   "metadata": {},
   "source": [
    "## 3.1 Baseline Model\n",
    "\n",
    "We use a logistic regression classifier."
   ]
  },
  {
   "cell_type": "code",
   "execution_count": 70,
   "id": "61dbf162",
   "metadata": {},
   "outputs": [
    {
     "data": {
      "text/plain": [
       "0.9240837696335078"
      ]
     },
     "execution_count": 70,
     "metadata": {},
     "output_type": "execute_result"
    }
   ],
   "source": [
    "clf = LogisticRegression(random_state=0).fit(X_train, y_train)\n",
    "clf.score(X_test, y_test)"
   ]
  },
  {
   "cell_type": "markdown",
   "id": "9d66df1c",
   "metadata": {},
   "source": [
    "## 3.2 A6 Algorithms\n",
    "\n",
    "A6 uses the following setup:\n",
    "\n",
    "- There is a sensitive attribute S. We want to avoid discrimination between different values of S. In our case, S is race, which takes values in {African American (1), Caucasian (0)}\n",
    "- There is an explanatory variable E, which is correlated with S. Hence, simply removing S won't fix bias. In our case, we assume it is c_charge_degree."
   ]
  },
  {
   "cell_type": "markdown",
   "id": "4f0c38e0",
   "metadata": {},
   "source": [
    "### 3.2.1 Create functions used in pseudocode"
   ]
  },
  {
   "cell_type": "code",
   "execution_count": 71,
   "id": "150d7e14",
   "metadata": {},
   "outputs": [],
   "source": [
    "# Creates a list of partitions: 1 for each unique value of e\n",
    "\n",
    "# X is the full dataset (in our case, train)\n",
    "# e is the \n",
    "def PARTITION(X):\n",
    "    partitions = list()\n",
    "    \n",
    "    for e_i in np.unique(X[E]):\n",
    "        partitions.append(X[X[E]==e_i])\n",
    "    \n",
    "    return partitions"
   ]
  },
  {
   "cell_type": "code",
   "execution_count": 72,
   "id": "9dc4b7b1",
   "metadata": {},
   "outputs": [],
   "source": [
    "# Delta function returns the number of observations (i.e. people) who are incorrectly classified \n",
    "# based on theoretical probabilities of reciding, calculated as the average rate of reciding\n",
    "# for each explanatory varaible (in our case, type of crime comittied, c_charge_degree)\n",
    "\n",
    "def DELTA(X, X_ei, s_i):\n",
    "    \n",
    "    # Gi is the number of observations for each race\n",
    "    # Don't we need to pass S as a parameter for this function?\n",
    "    Gi = sum(X_ei[S] == s_i)\n",
    "    \n",
    "    # X_ei_si is the dataset that contains the observations for each race\n",
    "    X_ei_si = X_ei[X_ei[S] == s_i]\n",
    "    \n",
    "    # P_denom is the number of people in group \n",
    "    # P_num is number of observations who recid\n",
    "    P_denom = X_ei_si.shape[0]\n",
    "    P_num = sum(X_ei_si[Y] == 1)\n",
    "    \n",
    "    # P is the probability of reciding for one race\n",
    "    # It is calculated by taking number of people who recid in each group \n",
    "    # dividied by total number of people in that group\n",
    "    P = P_num/P_denom\n",
    "    \n",
    "    # All other observations (for the other group)\n",
    "    X_ei_not_si = X_ei[X_ei[S] != s_i]\n",
    "    \n",
    "    # The probability of reciding for the other group (same calculation as above)\n",
    "    Ps_2 = sum(X_ei_not_si[Y] == 1)/X_ei_not_si.shape[0]\n",
    "    \n",
    "    # Ps is P*, which is the theoretical true probability of reciding\n",
    "    # Calculated by the average \n",
    "    Ps = (P+Ps_2)/2\n",
    "    \n",
    "    # Calcualte the number of incorrectly classified people\n",
    "    d = int(round(Gi * abs(P - Ps)))\n",
    "    \n",
    "    return(d)"
   ]
  },
  {
   "cell_type": "markdown",
   "id": "52a6a210",
   "metadata": {},
   "source": [
    "### 3.2.2 Local Massaging"
   ]
  },
  {
   "cell_type": "code",
   "execution_count": 73,
   "id": "23e1ab2c",
   "metadata": {},
   "outputs": [
    {
     "name": "stdout",
     "output_type": "stream",
     "text": [
      "DELTA(African American) =  48 African Americans changed from 1 to 0\n",
      "DELTA(Caucasian) =  43 Caucasians changed from 0 to 1\n",
      "DELTA(African American) =  94 African Americans changed from 1 to 0\n",
      "DELTA(Caucasian) =  54 Caucasians changed from 0 to 1\n"
     ]
    }
   ],
   "source": [
    "relabeled_X_ei = list()\n",
    "\n",
    "for X_ei in PARTITION(train):\n",
    "    X_ei_copy = X_ei.copy()\n",
    "    \n",
    "    ranker_model = LogisticRegression(random_state=0).fit(X_ei[X_ALL], X_ei[Y])\n",
    "    \n",
    "    afam_index = [i for (i, v) in zip(list(range(X_ei.shape[0])), list(X_ei[S] == 1)) if v]\n",
    "    afam = X_ei[X_ei[S] == 1].copy()\n",
    "    delta_afam = DELTA(train, X_ei, 1)\n",
    "    afam_predicted_1_index = [afam_index[v] for v in np.squeeze(np.where(ranker_model.predict(afam[X_ALL]) == 1))]\n",
    "    afam_predicted_1_index_Y1 = [i for (i,v) in zip(afam_predicted_1_index, X_ei.iloc[afam_predicted_1_index][Y]) if v==1]\n",
    "    afam_predicted_1 = X_ei.iloc[afam_predicted_1_index_Y1]\n",
    "    \n",
    "    afam_ranks = (ss.rankdata(ranker_model.decision_function(afam_predicted_1[X_ALL]))-1).astype(int)\n",
    "    afam_tochange = [i for (i, v) in zip(list(range(len(afam_ranks))), afam_ranks < delta_afam) if v]\n",
    "    afam_tochange_idx = [afam_predicted_1_index_Y1[v] for v in afam_tochange]\n",
    "    \n",
    "    cauca_index = [i for (i, v) in zip(list(range(X_ei.shape[0])), list(X_ei[S] == 0)) if v]\n",
    "    cauca = X_ei[X_ei[S] == 0].copy()\n",
    "    delta_cauca = DELTA(train, X_ei, 0)\n",
    "    cauca_predicted_0_index = [cauca_index[v] for v in np.squeeze(np.where(ranker_model.predict(cauca[X_ALL]) == 0))]\n",
    "    cauca_predicted_0_index_Y0 = [i for (i,v) in zip(cauca_predicted_0_index, X_ei.iloc[cauca_predicted_0_index][Y]) if v==0]\n",
    "    cauca_predicted_0 = X_ei.iloc[cauca_predicted_0_index_Y0]\n",
    "    \n",
    "    cauca_ranks = (ss.rankdata(-ranker_model.decision_function(cauca_predicted_0[X_ALL]))-1).astype(int)\n",
    "    cauca_tochange = [i for (i, v) in zip(list(range(len(cauca_ranks))), cauca_ranks < delta_cauca) if v]\n",
    "    cauca_tochange_idx = [cauca_predicted_0_index_Y0[v] for v in cauca_tochange]\n",
    "    \n",
    "    for i in afam_tochange_idx:\n",
    "        X_ei_copy.loc[X_ei_copy.index[i], Y] = 0\n",
    "    for i in cauca_tochange_idx:\n",
    "        X_ei_copy.loc[X_ei_copy.index[i], Y] = 1\n",
    "    \n",
    "    relabeled_X_ei.append(X_ei_copy)\n",
    "    \n",
    "    print(\"DELTA(African American) = \", delta_afam, \"African Americans changed from 1 to 0\")\n",
    "    print(\"DELTA(Caucasian) = \", delta_cauca, \"Caucasians changed from 0 to 1\")\n",
    "    \n",
    "local_massaging = pd.concat(relabeled_X_ei)"
   ]
  },
  {
   "cell_type": "code",
   "execution_count": 74,
   "id": "6c0dd5e8",
   "metadata": {},
   "outputs": [],
   "source": [
    "lm_X_train = local_massaging[X_ALL]\n",
    "lm_Y_train = local_massaging[Y]"
   ]
  },
  {
   "cell_type": "code",
   "execution_count": 75,
   "id": "28214248",
   "metadata": {},
   "outputs": [
    {
     "data": {
      "text/plain": [
       "0.918848167539267"
      ]
     },
     "execution_count": 75,
     "metadata": {},
     "output_type": "execute_result"
    }
   ],
   "source": [
    "clf = LogisticRegression(random_state=0).fit(lm_X_train, lm_Y_train)\n",
    "clf.score(X_test[X_ALL], y_test)"
   ]
  },
  {
   "cell_type": "code",
   "execution_count": 76,
   "id": "d1027894",
   "metadata": {
    "scrolled": true
   },
   "outputs": [
    {
     "data": {
      "text/plain": [
       "239"
      ]
     },
     "execution_count": 76,
     "metadata": {},
     "output_type": "execute_result"
    }
   ],
   "source": [
    "# Total number changed values should be sum of all DELTAs shown above\n",
    "res = [1 for i, j in zip(train.sort_index()[\"two_year_recid\"], pd.DataFrame(lm_Y_train).sort_index()[\"two_year_recid\"]) if i != j]\n",
    "sum(res)"
   ]
  },
  {
   "cell_type": "markdown",
   "id": "3293334c",
   "metadata": {},
   "source": [
    "### 3.2.3 Local Preferential Sampling"
   ]
  },
  {
   "cell_type": "markdown",
   "id": "5ae7ba01",
   "metadata": {},
   "source": [
    "In this algorithm, we take in a dataset (train) and return a modified dataset of same size."
   ]
  },
  {
   "cell_type": "code",
   "execution_count": 77,
   "id": "ed18b4ae",
   "metadata": {},
   "outputs": [
    {
     "name": "stdout",
     "output_type": "stream",
     "text": [
      "start partition\n",
      "X_ei shape: (1540, 16)\n",
      "Half Delta(AA): 24\n",
      "Half Delta(Cauc): 21\n",
      "Total AAs: 812\n",
      "Total Cs: 728\n",
      "afam dataset shape: (812, 16)\n",
      "c dataset shape: (728, 16)\n",
      "N: 24\n",
      "rows in cleaned_recid before: (375, 17)\n",
      "rows in cleaned_recid after: (351, 17)\n",
      "N: 24\n",
      "rows in cleaned_no_recid before: (437, 17)\n",
      "rows in cleaned_no_recid after: (461, 17)\n",
      "size of final A: (812, 17)\n",
      "M: 21\n",
      "rows in cleaned_recid before: (476, 17)\n",
      "rows in cleaned_recid after: (455, 17)\n",
      "M: 21\n",
      "rows in cleaned_no_recid before: (252, 17)\n",
      "rows in cleaned_no_recid after: (273, 17)\n",
      "size of final C: (728, 17)\n",
      "end partition\n",
      "size of train: (4584, 16)\n",
      "size of recomp: (1540, 16)\n",
      "start partition\n",
      "X_ei shape: (3044, 16)\n",
      "Half Delta(AA): 47\n",
      "Half Delta(Cauc): 27\n",
      "Total AAs: 1933\n",
      "Total Cs: 1111\n",
      "afam dataset shape: (1933, 16)\n",
      "c dataset shape: (1111, 16)\n",
      "N: 47\n",
      "rows in cleaned_recid before: (1073, 17)\n",
      "rows in cleaned_recid after: (1026, 17)\n",
      "N: 47\n",
      "rows in cleaned_no_recid before: (860, 17)\n",
      "rows in cleaned_no_recid after: (907, 17)\n",
      "size of final A: (1933, 17)\n",
      "M: 27\n",
      "rows in cleaned_recid before: (611, 17)\n",
      "rows in cleaned_recid after: (584, 17)\n",
      "M: 27\n",
      "rows in cleaned_no_recid before: (500, 17)\n",
      "rows in cleaned_no_recid after: (527, 17)\n",
      "size of final C: (1111, 17)\n",
      "end partition\n",
      "size of train: (4584, 16)\n",
      "size of recomp: (4584, 16)\n"
     ]
    }
   ],
   "source": [
    "pd.options.mode.chained_assignment = None\n",
    "recomp_train = pd.DataFrame()\n",
    "\n",
    "# for each partition (explanatory variable)\n",
    "for X_ei in PARTITION(train):\n",
    "    \n",
    "    print(\"start partition\")\n",
    "    X_ei_copy = X_ei.copy()\n",
    "    print(\"X_ei shape:\", X_ei_copy.shape)\n",
    "    \n",
    "    # learn a ranker Hi : Xi -> Yi\n",
    "    ranker_model = LogisticRegression(random_state=0).fit(X_ei[X_ALL], X_ei[Y])\n",
    "    \n",
    "    # Calculate half delta (AA: S_i = 1, AA: S_i = 0)\n",
    "    half_delta_afam = DELTA(train, X_ei, 1) // 2\n",
    "    half_delta_cauc = DELTA(train, X_ei, 0) // 2\n",
    "    print(\"Half Delta(AA):\", half_delta_afam)\n",
    "    print(\"Half Delta(Cauc):\", half_delta_cauc)\n",
    "    \n",
    "    # store indicies\n",
    "    afam_index = [i for (i, v) in zip(list(range(X_ei.shape[0])), list(X_ei[S] == 1)) if v]\n",
    "    c_index = [i for (i, v) in zip(list(range(X_ei.shape[0])), list(X_ei[S] == 0)) if v]\n",
    "    print(\"Total AAs:\", len(afam_index))\n",
    "    print(\"Total Cs:\", len(c_index))\n",
    "    \n",
    "    # get subset of data to work with\n",
    "    afam = X_ei[X_ei[S] == 1].copy()\n",
    "    c = X_ei[X_ei[S] == 0].copy()\n",
    "    print(\"afam dataset shape:\", afam.shape)\n",
    "    print(\"c dataset shape:\", c.shape)\n",
    "    \n",
    "    # rank AA\n",
    "    afam.reset_index(drop=True, inplace=True)\n",
    "    rank = pd.DataFrame(ranker_model.decision_function(afam[X_ALL]), columns = ['rank'])\n",
    "    afam_with_rank = pd.concat([afam, rank], axis=1)\n",
    "    \n",
    "    # rank C\n",
    "    c.reset_index(drop=True, inplace=True)\n",
    "    rank = pd.DataFrame(ranker_model.decision_function(c[X_ALL]), columns = ['rank'])\n",
    "    c_with_rank = pd.concat([c, rank], axis=1)\n",
    "    \n",
    "    # sort values, reset indices\n",
    "    afam_with_rank = afam_with_rank.sort_values(['rank'])\n",
    "    afam_with_rank.reset_index(drop = True, inplace = True)\n",
    "    c_with_rank = c_with_rank.sort_values(['rank'])\n",
    "    c_with_rank.reset_index(drop = True, inplace = True)\n",
    "    \n",
    "    ######## Modify AA data - find rows to delete/duplicate; decision boundary is 0 #####\n",
    "    recid = sum(afam_with_rank['rank'] > 0)\n",
    "    no_recid = sum(afam_with_rank['rank'] < 0)    \n",
    "    total = len(afam_with_rank)\n",
    "    \n",
    "    # make copy of recids and no_recids\n",
    "    # compas = compas[compas['days_b_screening_arrest'] >= -30]\n",
    "    cleaned_recid = afam_with_rank[afam_with_rank['rank'] > 0]\n",
    "    cleaned_no_recid = afam_with_rank[afam_with_rank['rank'] < 0]\n",
    "    \n",
    "    # delete first 1/2 delta values from recid\n",
    "    N = half_delta_afam\n",
    "    print(\"N:\", N)\n",
    "    print(\"rows in cleaned_recid before:\", cleaned_recid.shape)\n",
    "    cleaned_recid.drop(index=cleaned_recid.index[:N], axis=0, inplace=True)\n",
    "    print(\"rows in cleaned_recid after:\", cleaned_recid.shape)\n",
    "    \n",
    "    # flip order, then duplicate first 1/2 delta values from no_recid\n",
    "    #print(\"cleaned_no_recid before:\", cleaned_no_recid)\n",
    "    cleaned_no_recid = cleaned_no_recid.sort_values(by='rank', ascending=False)\n",
    "    #print(\"cleaned_no_recid after:\", cleaned_no_recid)\n",
    "    print(\"N:\", N)\n",
    "    print(\"rows in cleaned_no_recid before:\", cleaned_no_recid.shape)\n",
    "    cleaned_no_recid = cleaned_no_recid.append(cleaned_no_recid[0:N])\n",
    "    print(\"rows in cleaned_no_recid after:\", cleaned_no_recid.shape)\n",
    "    \n",
    "    # combine \n",
    "    total_AA = pd.concat([cleaned_recid, cleaned_no_recid])\n",
    "    print(\"size of final A:\", total_AA.shape)\n",
    "    \n",
    "    ########## Modify C data ############\n",
    "    # Find rows to delete/duplicate; decision boundary is 0; opposite code as above\n",
    "    recid = sum(c_with_rank['rank'] < 0)\n",
    "    no_recid = sum(c_with_rank['rank'] > 0)    \n",
    "    total = len(c_with_rank)\n",
    "    \n",
    "    # make copy of recids and no_recids\n",
    "    cleaned_recid = c_with_rank[c_with_rank['rank'] < 0]\n",
    "    cleaned_no_recid = c_with_rank[c_with_rank['rank'] > 0]\n",
    "    \n",
    "    # delete first 1/2 delta values from recid\n",
    "    M = half_delta_cauc\n",
    "    print(\"M:\", M)\n",
    "    print(\"rows in cleaned_recid before:\", cleaned_recid.shape)\n",
    "    cleaned_recid.drop(index=cleaned_recid.index[:M], axis=0, inplace=True)\n",
    "    print(\"rows in cleaned_recid after:\", cleaned_recid.shape)\n",
    "    \n",
    "    # flip order, then duplicate first 1/2 delta values from no_recid\n",
    "    #print(\"cleaned_no_recid before:\", cleaned_no_recid)\n",
    "    cleaned_no_recid = cleaned_no_recid.sort_values(by='rank', ascending=False)\n",
    "    #print(\"cleaned_no_recid after:\", cleaned_no_recid)\n",
    "    print(\"M:\", M)\n",
    "    print(\"rows in cleaned_no_recid before:\", cleaned_no_recid.shape)\n",
    "    cleaned_no_recid = cleaned_no_recid.append(cleaned_no_recid[0:M])\n",
    "    print(\"rows in cleaned_no_recid after:\", cleaned_no_recid.shape)\n",
    "    \n",
    "    # combine \n",
    "    total_C = pd.concat([cleaned_recid, cleaned_no_recid])\n",
    "    print(\"size of final C:\", total_C.shape)\n",
    "    print(\"end partition\")\n",
    "    \n",
    "    # combine both datasets\n",
    "    recomp_train = recomp_train.append(total_AA)\n",
    "    recomp_train = recomp_train.append(total_C)\n",
    "    recomp_train = recomp_train.drop('rank', axis=1)\n",
    "    \n",
    "    print(\"size of train:\", train.shape)\n",
    "    print(\"size of recomp:\", recomp_train.shape)\n",
    "    "
   ]
  },
  {
   "cell_type": "markdown",
   "id": "87af1693",
   "metadata": {},
   "source": [
    "# 3.3 Evaluation"
   ]
  },
  {
   "cell_type": "markdown",
   "id": "b8f78872",
   "metadata": {},
   "source": [
    "Notation: P_c stands for probability based on the classifier's predictions.\n",
    "\n",
    "## Metrics Used:\n",
    "\n",
    "### Parity or D_all\n",
    "\n",
    "Parity is defined as the difference is positive prediction rates in the two race groups. Paper 6 also calls this D_all, which stands for all discrimination. Fairness calls for Parity being close to 0.\n",
    "\n",
    "<br>\n",
    "<center>Parity = |P_c(recid = 1 | race = African American) - P_c(recid = 1 | race = Caucasian)</center>\n",
    "    \n",
    "### Calibration\n",
    "\n",
    "Calibration is defined as the difference in accuracies between the two race groups. Fairness calls for Calibration being close to 0.\n",
    "\n",
    "<br>\n",
    "\n",
    "<center>Calibration = |P_c(recid predicted correctly | race = African American) - P_c(recid predicted correctly | race = Caucasian)</center>\n",
    "\n",
    "### Equality of Odds\n",
    "\n",
    "Equality of odds is achieved when the difference in positive prediction rates is equal for the two race groups. Fairness calls for the following value to be close to 0 for both y in {0,1}.\n",
    "\n",
    "<br>\n",
    "\n",
    "<center>D_Odds = P_c(recid.hat = 1 | race = African American, recid = y) - P_c(recid.hat = 1 | race = Caucasian, recid = y)</center>\n",
    "\n"
   ]
  },
  {
   "cell_type": "code",
   "execution_count": 78,
   "id": "1e1df946",
   "metadata": {},
   "outputs": [],
   "source": [
    "# X must include the sensitive feature\n",
    "def PARITY(X, Y_PRED):\n",
    "    s = X[S]\n",
    "    \n",
    "    afam = X[X[S] == 1]\n",
    "    num_afam = sum(Y_PRED[X[S] == 1])\n",
    "    den_afam = afam.shape[0]\n",
    "    \n",
    "    cauca = X[X[S] == 0]\n",
    "    num_cauca = sum(Y_PRED[X[S] == 0])\n",
    "    den_cauca = cauca.shape[0]\n",
    "    \n",
    "    print(\"P_c(recid = 1 | race = African American) =\", num_afam/den_afam)\n",
    "    print(\"P_c(recid = 1 | race = Caucasian) =\", num_cauca/den_cauca)\n",
    "    parity = abs(num_afam/den_afam - num_cauca/den_cauca)\n",
    "    print(\"Parity =\", parity)\n",
    "    \n",
    "    return(parity)"
   ]
  },
  {
   "cell_type": "code",
   "execution_count": 79,
   "id": "3d04389c",
   "metadata": {},
   "outputs": [],
   "source": [
    "# X must include S\n",
    "def CALIBRATION(X, Y_TRUE, Y_PRED):\n",
    "    \n",
    "    afam = X[X[S] == 1]\n",
    "    Y_TRUE_afam = Y_TRUE[X[S] == 1]\n",
    "    num_afam = sum([1 for (i, v) in zip(Y_TRUE_afam, Y_PRED[X[S]==1]) if i == v])\n",
    "    den_afam = afam.shape[0]\n",
    "    \n",
    "    cauca = X[X[S] == 0]\n",
    "    Y_TRUE_cauca = Y_TRUE[X[S] == 0]\n",
    "    num_cauca = sum([1 for (i, v) in zip(Y_TRUE_cauca, Y_PRED[X[S]==0]) if i == v])\n",
    "    den_cauca = cauca.shape[0]\n",
    "    \n",
    "    print(\"P_c(recid predicted correctly | race = African American) =\", num_afam/den_afam)\n",
    "    print(\"P_c(recid predicted correctly | race = Caucasian) =\", num_cauca/den_cauca)\n",
    "    calibration = abs(num_afam/den_afam - num_cauca/den_cauca)\n",
    "    print(\"Calibration =\", calibration)"
   ]
  },
  {
   "cell_type": "code",
   "execution_count": 80,
   "id": "5dbc3a50",
   "metadata": {},
   "outputs": [],
   "source": [
    "def EQUALITY_OF_ODDS(X, Y_TRUE, Y_PRED):\n",
    "    \n",
    "    # S = afam, Y = 0\n",
    "    X_afam_0 = X[np.logical_and(X[S]==1, Y_TRUE == 0)]\n",
    "    Y_PRED_afam_0 = Y_PRED[np.logical_and(X[S]==1, Y_TRUE == 0)]\n",
    "    num_afam_0 = sum([1 for i in Y_PRED_afam_0 if i == 1])\n",
    "    denom_afam_0 = X_afam_0.shape[0]\n",
    "    P_afam_0 = num_afam_0/denom_afam_0\n",
    "    \n",
    "    # S = afam, Y = 1\n",
    "    X_afam_1 = X[np.logical_and(X[S]==1, Y_TRUE == 1)]\n",
    "    Y_PRED_afam_1 = Y_PRED[np.logical_and(X[S]==1, Y_TRUE == 1)]\n",
    "    num_afam_1 = sum([1 for i in Y_PRED_afam_1 if i == 1])\n",
    "    denom_afam_1 = X_afam_1.shape[0]\n",
    "    P_afam_1 = num_afam_1/denom_afam_1\n",
    "    \n",
    "    # S = cauca, Y = 0\n",
    "    X_cauca_0 = X[np.logical_and(X[S]==0, Y_TRUE == 0)]\n",
    "    Y_PRED_cauca_0 = Y_PRED[np.logical_and(X[S]==0, Y_TRUE == 0)]\n",
    "    num_cauca_0 = sum([1 for i in Y_PRED_cauca_0 if i == 1])\n",
    "    denom_cauca_0 = X_cauca_0.shape[0]\n",
    "    P_cauca_0 = num_cauca_0/denom_cauca_0\n",
    "    \n",
    "    # S = cauca, Y = 1\n",
    "    X_cauca_1 = X[np.logical_and(X[S]==0, Y_TRUE == 1)]\n",
    "    Y_PRED_cauca_1 = Y_PRED[np.logical_and(X[S]==0, Y_TRUE == 1)]\n",
    "    num_cauca_1 = sum([1 for i in Y_PRED_cauca_1 if i == 1])\n",
    "    denom_cauca_1 = X_cauca_1.shape[0]\n",
    "    P_cauca_1 = num_cauca_1/denom_cauca_1\n",
    "    \n",
    "    print(\"For recid = 0:\\n\")\n",
    "    print(\"P_c(recid.hat = 1 | race = African American, recid = 0) = \", P_afam_0)\n",
    "    print(\"P_c(recid.hat = 1 | race = Caucasian, recid = 0) = \", P_cauca_0)\n",
    "    print(\"Difference in odds of true recid = 0 is  = D_FPR =\", abs(P_afam_0 - P_cauca_0))\n",
    "    print(\"\\n\\n\")\n",
    "    print(\"For recid = 1:\\n\")\n",
    "    print(\"P_c(recid.hat = 1 | race = African American, recid = 1) = \", P_afam_1)\n",
    "    print(\"P_c(recid.hat = 1 | race = Caucasian, recid = 1) = \", P_cauca_1)\n",
    "    print(\"Difference in odds of true recid = 1 is = D_TPR =\", abs(P_afam_1 - P_cauca_1))\n",
    "    \n"
   ]
  },
  {
   "cell_type": "code",
   "execution_count": 81,
   "id": "6cee0186",
   "metadata": {},
   "outputs": [],
   "source": [
    "def D_FNR(X, Y_TRUE, Y_PRED):\n",
    "    # S = afam, Y = 1\n",
    "    X_afam_1 = X[np.logical_and(X[S]==1, Y_TRUE == 1)]\n",
    "    Y_PRED_afam_1 = Y_PRED[np.logical_and(X[S]==1, Y_TRUE == 1)]\n",
    "    num_afam_1 = sum([1 for i in Y_PRED_afam_1 if i == 0])\n",
    "    denom_afam_1 = X_afam_1.shape[0]\n",
    "    P_afam_1 = num_afam_1/denom_afam_1\n",
    "    \n",
    "    # S = cauca, Y = 1\n",
    "    X_cauca_1 = X[np.logical_and(X[S]==0, Y_TRUE == 1)]\n",
    "    Y_PRED_cauca_1 = Y_PRED[np.logical_and(X[S]==0, Y_TRUE == 1)]\n",
    "    num_cauca_1 = sum([1 for i in Y_PRED_cauca_1 if i == 0])\n",
    "    denom_cauca_1 = X_cauca_1.shape[0]\n",
    "    P_cauca_1 = num_cauca_1/denom_cauca_1\n",
    "    \n",
    "    print(\"Difference in False Negative Rates\")\n",
    "\n",
    "    print(\"For recid = 1:\\n\")\n",
    "    print(\"P_c(recid.hat = 0 | race = African American, recid = 1) = \", P_afam_1)\n",
    "    print(\"P_c(recid.hat = 0 | race = Caucasian, recid = 1) = \", P_cauca_1)\n",
    "    \n",
    "    print(\"D_FNR =\", abs(P_afam_1 - P_cauca_1))"
   ]
  },
  {
   "cell_type": "markdown",
   "id": "b76d7ba6",
   "metadata": {},
   "source": [
    "## 3.3.1 Baseline Evaluation"
   ]
  },
  {
   "cell_type": "code",
   "execution_count": 82,
   "id": "a73fbbb7",
   "metadata": {},
   "outputs": [
    {
     "data": {
      "text/plain": [
       "0.9240837696335078"
      ]
     },
     "execution_count": 82,
     "metadata": {},
     "output_type": "execute_result"
    }
   ],
   "source": [
    "clf = LogisticRegression(random_state=0).fit(X_train, y_train)\n",
    "baseline_pred = clf.predict(X_test[X_ALL])\n",
    "clf.score(X_test, y_test)"
   ]
  },
  {
   "cell_type": "code",
   "execution_count": 83,
   "id": "7e632e98",
   "metadata": {},
   "outputs": [
    {
     "name": "stdout",
     "output_type": "stream",
     "text": [
      "              precision    recall  f1-score   support\n",
      "\n",
      "           0       0.93      0.92      0.92       565\n",
      "           1       0.92      0.93      0.93       581\n",
      "\n",
      "    accuracy                           0.92      1146\n",
      "   macro avg       0.92      0.92      0.92      1146\n",
      "weighted avg       0.92      0.92      0.92      1146\n",
      "\n"
     ]
    }
   ],
   "source": [
    "print(classification_report(y_test, clf.predict(X_test[X_ALL])))"
   ]
  },
  {
   "cell_type": "code",
   "execution_count": 84,
   "id": "054313be",
   "metadata": {},
   "outputs": [
    {
     "name": "stdout",
     "output_type": "stream",
     "text": [
      "P_c(recid = 1 | race = African American) = 0.5857558139534884\n",
      "P_c(recid = 1 | race = Caucasian) = 0.40829694323144106\n",
      "Parity = 0.17745887072204736\n"
     ]
    },
    {
     "data": {
      "text/plain": [
       "0.17745887072204736"
      ]
     },
     "execution_count": 84,
     "metadata": {},
     "output_type": "execute_result"
    }
   ],
   "source": [
    "# Parity\n",
    "\n",
    "PARITY(X_test, baseline_pred)"
   ]
  },
  {
   "cell_type": "code",
   "execution_count": 85,
   "id": "bfd68571",
   "metadata": {},
   "outputs": [
    {
     "name": "stdout",
     "output_type": "stream",
     "text": [
      "P_c(recid predicted correctly | race = African American) = 0.9142441860465116\n",
      "P_c(recid predicted correctly | race = Caucasian) = 0.9388646288209607\n",
      "Calibration = 0.02462044277444908\n"
     ]
    }
   ],
   "source": [
    "# Calibration\n",
    "\n",
    "CALIBRATION(X_test, y_test, baseline_pred)"
   ]
  },
  {
   "cell_type": "code",
   "execution_count": 86,
   "id": "bfb9fd9c",
   "metadata": {},
   "outputs": [
    {
     "name": "stdout",
     "output_type": "stream",
     "text": [
      "For recid = 0:\n",
      "\n",
      "P_c(recid.hat = 1 | race = African American, recid = 0) =  0.11301369863013698\n",
      "P_c(recid.hat = 1 | race = Caucasian, recid = 0) =  0.054945054945054944\n",
      "Difference in odds of true recid = 0 is  = D_FPR = 0.058068643685082036\n",
      "\n",
      "\n",
      "\n",
      "For recid = 1:\n",
      "\n",
      "P_c(recid.hat = 1 | race = African American, recid = 1) =  0.9343434343434344\n",
      "P_c(recid.hat = 1 | race = Caucasian, recid = 1) =  0.9297297297297298\n",
      "Difference in odds of true recid = 1 is = D_TPR = 0.004613704613704583\n"
     ]
    }
   ],
   "source": [
    "# Equality of Odds\n",
    "\n",
    "EQUALITY_OF_ODDS(X_test, y_test, baseline_pred)"
   ]
  },
  {
   "cell_type": "code",
   "execution_count": 87,
   "id": "fbe55fec",
   "metadata": {},
   "outputs": [
    {
     "name": "stdout",
     "output_type": "stream",
     "text": [
      "Difference in False Negative Rates\n",
      "For recid = 1:\n",
      "\n",
      "P_c(recid.hat = 0 | race = African American, recid = 1) =  0.06565656565656566\n",
      "P_c(recid.hat = 0 | race = Caucasian, recid = 1) =  0.07027027027027027\n",
      "D_FNR = 0.004613704613704611\n"
     ]
    }
   ],
   "source": [
    "# D_FNR\n",
    "\n",
    "D_FNR(X_test, y_test, baseline_pred)"
   ]
  },
  {
   "cell_type": "markdown",
   "id": "baf18db8",
   "metadata": {},
   "source": [
    "## 3.3.2 Local Massaging Evaluation"
   ]
  },
  {
   "cell_type": "code",
   "execution_count": 88,
   "id": "783512f7",
   "metadata": {},
   "outputs": [
    {
     "data": {
      "text/plain": [
       "0.918848167539267"
      ]
     },
     "execution_count": 88,
     "metadata": {},
     "output_type": "execute_result"
    }
   ],
   "source": [
    "clf = LogisticRegression(random_state=0).fit(lm_X_train, lm_Y_train)\n",
    "lm_pred = clf.predict(X_test[X_ALL])\n",
    "clf.score(X_test[X_ALL], y_test)"
   ]
  },
  {
   "cell_type": "code",
   "execution_count": 89,
   "id": "5579430c",
   "metadata": {
    "scrolled": true
   },
   "outputs": [
    {
     "name": "stdout",
     "output_type": "stream",
     "text": [
      "              precision    recall  f1-score   support\n",
      "\n",
      "           0       0.91      0.92      0.92       565\n",
      "           1       0.93      0.91      0.92       581\n",
      "\n",
      "    accuracy                           0.92      1146\n",
      "   macro avg       0.92      0.92      0.92      1146\n",
      "weighted avg       0.92      0.92      0.92      1146\n",
      "\n"
     ]
    }
   ],
   "source": [
    "print(classification_report(y_test, clf.predict(X_test[X_ALL])))"
   ]
  },
  {
   "cell_type": "code",
   "execution_count": 90,
   "id": "8b7655f8",
   "metadata": {},
   "outputs": [
    {
     "name": "stdout",
     "output_type": "stream",
     "text": [
      "P_c(recid = 1 | race = African American) = 0.5494186046511628\n",
      "P_c(recid = 1 | race = Caucasian) = 0.4279475982532751\n",
      "Parity = 0.12147100639788766\n"
     ]
    },
    {
     "data": {
      "text/plain": [
       "0.12147100639788766"
      ]
     },
     "execution_count": 90,
     "metadata": {},
     "output_type": "execute_result"
    }
   ],
   "source": [
    "# Parity\n",
    "\n",
    "PARITY(X_test, lm_pred)"
   ]
  },
  {
   "cell_type": "code",
   "execution_count": 91,
   "id": "26b010cf",
   "metadata": {},
   "outputs": [
    {
     "name": "stdout",
     "output_type": "stream",
     "text": [
      "P_c(recid predicted correctly | race = African American) = 0.9069767441860465\n",
      "P_c(recid predicted correctly | race = Caucasian) = 0.9366812227074236\n",
      "Calibration = 0.029704478521377142\n"
     ]
    }
   ],
   "source": [
    "# Calibration\n",
    "\n",
    "CALIBRATION(X_test, y_test, lm_pred)"
   ]
  },
  {
   "cell_type": "code",
   "execution_count": 92,
   "id": "730e35c9",
   "metadata": {
    "scrolled": false
   },
   "outputs": [
    {
     "name": "stdout",
     "output_type": "stream",
     "text": [
      "For recid = 0:\n",
      "\n",
      "P_c(recid.hat = 1 | race = African American, recid = 0) =  0.07876712328767123\n",
      "P_c(recid.hat = 1 | race = Caucasian, recid = 0) =  0.07326007326007326\n",
      "Difference in odds of true recid = 0 is  = D_FPR = 0.005507050027597965\n",
      "\n",
      "\n",
      "\n",
      "For recid = 1:\n",
      "\n",
      "P_c(recid.hat = 1 | race = African American, recid = 1) =  0.8964646464646465\n",
      "P_c(recid.hat = 1 | race = Caucasian, recid = 1) =  0.9513513513513514\n",
      "Difference in odds of true recid = 1 is = D_TPR = 0.054886704886704885\n"
     ]
    }
   ],
   "source": [
    "# Equality of Odds\n",
    "\n",
    "EQUALITY_OF_ODDS(X_test, y_test, lm_pred)"
   ]
  },
  {
   "cell_type": "code",
   "execution_count": 93,
   "id": "8af1f7cc",
   "metadata": {},
   "outputs": [
    {
     "name": "stdout",
     "output_type": "stream",
     "text": [
      "Difference in False Negative Rates\n",
      "For recid = 1:\n",
      "\n",
      "P_c(recid.hat = 0 | race = African American, recid = 1) =  0.10353535353535354\n",
      "P_c(recid.hat = 0 | race = Caucasian, recid = 1) =  0.04864864864864865\n",
      "D_FNR = 0.054886704886704885\n"
     ]
    }
   ],
   "source": [
    "# D_FNR\n",
    "\n",
    "D_FNR(X_test, y_test, lm_pred)"
   ]
  },
  {
   "cell_type": "markdown",
   "id": "5ef8fe55",
   "metadata": {},
   "source": [
    "## 3.3.3 Local Preferential Sampling Evaluation"
   ]
  },
  {
   "cell_type": "code",
   "execution_count": 94,
   "id": "5e1751ff",
   "metadata": {},
   "outputs": [
    {
     "name": "stdout",
     "output_type": "stream",
     "text": [
      "size of recomp_X_train: (4584, 15)\n",
      "size of recomp_Y_train: (4584,)\n"
     ]
    },
    {
     "data": {
      "text/plain": [
       "0.9232111692844677"
      ]
     },
     "execution_count": 94,
     "metadata": {},
     "output_type": "execute_result"
    }
   ],
   "source": [
    "recomp_X_train = recomp_train[X_ALL]\n",
    "recomp_Y_train = recomp_train[Y]\n",
    "print(\"size of recomp_X_train:\", recomp_X_train.shape)\n",
    "print(\"size of recomp_Y_train:\", recomp_Y_train.shape)\n",
    "\n",
    "clf_LPS = LogisticRegression(random_state=0).fit(recomp_X_train, recomp_Y_train)\n",
    "LPS_pred = clf_LPS.predict(X_test[X_ALL])\n",
    "clf_LPS.score(X_test[X_ALL], y_test)"
   ]
  },
  {
   "cell_type": "code",
   "execution_count": 95,
   "id": "48f891f7",
   "metadata": {
    "scrolled": true
   },
   "outputs": [
    {
     "name": "stdout",
     "output_type": "stream",
     "text": [
      "              precision    recall  f1-score   support\n",
      "\n",
      "           0       0.93      0.92      0.92       565\n",
      "           1       0.92      0.93      0.92       581\n",
      "\n",
      "    accuracy                           0.92      1146\n",
      "   macro avg       0.92      0.92      0.92      1146\n",
      "weighted avg       0.92      0.92      0.92      1146\n",
      "\n"
     ]
    }
   ],
   "source": [
    "print(classification_report(y_test, clf_LPS.predict(X_test[X_ALL])))"
   ]
  },
  {
   "cell_type": "code",
   "execution_count": 96,
   "id": "685d30f9",
   "metadata": {},
   "outputs": [
    {
     "name": "stdout",
     "output_type": "stream",
     "text": [
      "P_c(recid = 1 | race = African American) = 0.5857558139534884\n",
      "P_c(recid = 1 | race = Caucasian) = 0.40611353711790393\n",
      "Parity = 0.17964227683558448\n"
     ]
    },
    {
     "data": {
      "text/plain": [
       "0.17964227683558448"
      ]
     },
     "execution_count": 96,
     "metadata": {},
     "output_type": "execute_result"
    }
   ],
   "source": [
    "PARITY(X_test, LPS_pred)"
   ]
  },
  {
   "cell_type": "code",
   "execution_count": 97,
   "id": "c744138a",
   "metadata": {},
   "outputs": [
    {
     "name": "stdout",
     "output_type": "stream",
     "text": [
      "P_c(recid predicted correctly | race = African American) = 0.9142441860465116\n",
      "P_c(recid predicted correctly | race = Caucasian) = 0.9366812227074236\n",
      "Calibration = 0.022437036660912013\n"
     ]
    }
   ],
   "source": [
    "CALIBRATION(X_test, y_test, LPS_pred)"
   ]
  },
  {
   "cell_type": "code",
   "execution_count": 98,
   "id": "c085f936",
   "metadata": {},
   "outputs": [
    {
     "name": "stdout",
     "output_type": "stream",
     "text": [
      "For recid = 0:\n",
      "\n",
      "P_c(recid.hat = 1 | race = African American, recid = 0) =  0.11301369863013698\n",
      "P_c(recid.hat = 1 | race = Caucasian, recid = 0) =  0.054945054945054944\n",
      "Difference in odds of true recid = 0 is  = D_FPR = 0.058068643685082036\n",
      "\n",
      "\n",
      "\n",
      "For recid = 1:\n",
      "\n",
      "P_c(recid.hat = 1 | race = African American, recid = 1) =  0.9343434343434344\n",
      "P_c(recid.hat = 1 | race = Caucasian, recid = 1) =  0.9243243243243243\n",
      "Difference in odds of true recid = 1 is = D_TPR = 0.010019110019110045\n"
     ]
    }
   ],
   "source": [
    "EQUALITY_OF_ODDS(X_test, y_test, LPS_pred)"
   ]
  },
  {
   "cell_type": "code",
   "execution_count": 99,
   "id": "45970451",
   "metadata": {},
   "outputs": [
    {
     "name": "stdout",
     "output_type": "stream",
     "text": [
      "Difference in False Negative Rates\n",
      "For recid = 1:\n",
      "\n",
      "P_c(recid.hat = 0 | race = African American, recid = 1) =  0.06565656565656566\n",
      "P_c(recid.hat = 0 | race = Caucasian, recid = 1) =  0.07567567567567568\n",
      "D_FNR = 0.010019110019110017\n"
     ]
    }
   ],
   "source": [
    "# D_FNR\n",
    "\n",
    "D_FNR(X_test, y_test, LPS_pred)"
   ]
  }
 ],
 "metadata": {
  "kernelspec": {
   "display_name": "myenv",
   "language": "python",
   "name": "myenv"
  },
  "language_info": {
   "codemirror_mode": {
    "name": "ipython",
    "version": 3
   },
   "file_extension": ".py",
   "mimetype": "text/x-python",
   "name": "python",
   "nbconvert_exporter": "python",
   "pygments_lexer": "ipython3",
   "version": "3.9.10"
  }
 },
 "nbformat": 4,
 "nbformat_minor": 5
}
